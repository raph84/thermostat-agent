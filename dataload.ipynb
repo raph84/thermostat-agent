{
 "metadata": {
  "language_info": {
   "codemirror_mode": {
    "name": "ipython",
    "version": 3
   },
   "file_extension": ".py",
   "mimetype": "text/x-python",
   "name": "python",
   "nbconvert_exporter": "python",
   "pygments_lexer": "ipython3",
   "version": "3.8.6-final"
  },
  "orig_nbformat": 2,
  "kernelspec": {
   "name": "python3",
   "display_name": "Python 3",
   "language": "python"
  }
 },
 "nbformat": 4,
 "nbformat_minor": 2,
 "cells": [
  {
   "cell_type": "code",
   "execution_count": 1,
   "metadata": {},
   "outputs": [],
   "source": [
    "import os\n",
    "os.environ[\"GOOGLE_APPLICATION_CREDENTIALS\"] = \"C:\\\\Users\\\\T834432\\\\Documents\\\\personnel\\\\thermostat\\\\thermostat-agent\\\\thermostat-292016-05700c0efdbe__.json\"\n",
    "os.environ[\"PROJECT_ID\"] = \"thermostat-292016\"\n",
    "os.environ[\"ACTION_THRESHOLD\"] = \"1.0\"\n",
    "\n",
    "from google.cloud import storage\n",
    "#from thermostat import get_metric_list_from_bucket, bucket_name, storage_client\n",
    "from yadt import parse_date, apply_tz_toronto\n",
    "from datetime import datetime, timedelta\n",
    "import pandas as pd\n",
    "import json\n",
    "import pickle\n",
    "import numpy as np\n",
    "\n",
    "# Instantiates a client\n",
    "storage_client = storage.Client()\n",
    "# The name for the new bucket\n",
    "bucket = storage_client.bucket(\"thermostat_metric_data\")\n"
   ]
  },
  {
   "cell_type": "code",
   "execution_count": 2,
   "metadata": {},
   "outputs": [
    {
     "output_type": "execute_result",
     "data": {
      "text/plain": [
       "                                location                        dt  \\\n",
       "2020-12-04 08:39:19-05:00  house.kitchen 2020-12-04 08:39:19-05:00   \n",
       "2020-12-04 08:39:50-05:00  house.kitchen 2020-12-04 08:39:50-05:00   \n",
       "2020-12-04 08:43:36-05:00  house.kitchen 2020-12-04 08:43:36-05:00   \n",
       "2020-12-04 08:44:17-05:00  house.kitchen 2020-12-04 08:44:17-05:00   \n",
       "2020-12-04 08:44:17-05:00  house.kitchen 2020-12-04 08:44:17-05:00   \n",
       "...                                  ...                       ...   \n",
       "2021-01-11 01:45:05-05:00  house.kitchen 2021-01-11 01:45:05-05:00   \n",
       "2021-01-11 01:45:08-05:00  house.kitchen 2021-01-11 01:45:08-05:00   \n",
       "2021-01-11 01:45:10-05:00  house.kitchen 2021-01-11 01:45:10-05:00   \n",
       "2021-01-11 01:45:13-05:00  house.kitchen 2021-01-11 01:45:13-05:00   \n",
       "2021-01-11 01:48:24-05:00  house.kitchen 2021-01-11 01:48:24-05:00   \n",
       "\n",
       "                          temp_basement Sys Out Temp.  \\\n",
       "2020-12-04 08:39:19-05:00           NaN           NaN   \n",
       "2020-12-04 08:39:50-05:00           NaN           NaN   \n",
       "2020-12-04 08:43:36-05:00           NaN           NaN   \n",
       "2020-12-04 08:44:17-05:00           NaN           NaN   \n",
       "2020-12-04 08:44:17-05:00           NaN           NaN   \n",
       "...                                 ...           ...   \n",
       "2021-01-11 01:45:05-05:00           NaN           NaN   \n",
       "2021-01-11 01:45:08-05:00           NaN           NaN   \n",
       "2021-01-11 01:45:10-05:00           NaN           NaN   \n",
       "2021-01-11 01:45:13-05:00           NaN           NaN   \n",
       "2021-01-11 01:48:24-05:00           NaN           NaN   \n",
       "\n",
       "                                             filename  stove_exhaust_temp  \\\n",
       "2020-12-04 08:39:19-05:00  thermostat-20201210-020913                 NaN   \n",
       "2020-12-04 08:39:50-05:00  thermostat-20201210-020817                 0.0   \n",
       "2020-12-04 08:43:36-05:00  thermostat-20201210-021017                 0.0   \n",
       "2020-12-04 08:44:17-05:00  thermostat-20201210-021120                 NaN   \n",
       "2020-12-04 08:44:17-05:00  thermostat-20201210-020819                 NaN   \n",
       "...                                               ...                 ...   \n",
       "2021-01-11 01:45:05-05:00  thermostat-20210111-014505                 NaN   \n",
       "2021-01-11 01:45:08-05:00  thermostat-20210111-014508                 NaN   \n",
       "2021-01-11 01:45:10-05:00  thermostat-20210111-014510                 NaN   \n",
       "2021-01-11 01:45:13-05:00  thermostat-20210111-014513                 NaN   \n",
       "2021-01-11 01:48:24-05:00  thermostat-20210111-014828                 NaN   \n",
       "\n",
       "                           Coil Power motion  temperature  humidity   PPD  \\\n",
       "2020-12-04 08:39:19-05:00         NaN   True          NaN       NaN   NaN   \n",
       "2020-12-04 08:39:50-05:00         NaN   True     21.62470  49.51858  24.8   \n",
       "2020-12-04 08:43:36-05:00         NaN  False     21.79293  49.42245  22.8   \n",
       "2020-12-04 08:44:17-05:00         NaN  False     21.80896  48.55421  22.8   \n",
       "2020-12-04 08:44:17-05:00         NaN  False     21.80896  49.63913  22.5   \n",
       "...                               ...    ...          ...       ...   ...   \n",
       "2021-01-11 01:45:05-05:00         NaN   True     21.42710  48.40772  27.7   \n",
       "2021-01-11 01:45:08-05:00         NaN  False     21.44045  48.41077  27.5   \n",
       "2021-01-11 01:45:10-05:00         NaN   True     21.42710  48.37110  27.7   \n",
       "2021-01-11 01:45:13-05:00         NaN  False     21.42710  48.38483  27.7   \n",
       "2021-01-11 01:48:24-05:00         NaN  False     21.45380  48.37568  27.4   \n",
       "\n",
       "                           Indoor Temp. Setpoint  MA Temp.  Htg SP  \n",
       "2020-12-04 08:39:19-05:00                    NaN       NaN     NaN  \n",
       "2020-12-04 08:39:50-05:00                   22.0      18.0    22.0  \n",
       "2020-12-04 08:43:36-05:00                   22.0      18.0    22.0  \n",
       "2020-12-04 08:44:17-05:00                   22.0      18.0    22.0  \n",
       "2020-12-04 08:44:17-05:00                   22.0      18.0    22.0  \n",
       "...                                          ...       ...     ...  \n",
       "2021-01-11 01:45:05-05:00                   18.0      18.0    22.0  \n",
       "2021-01-11 01:45:08-05:00                   18.0      18.0    22.0  \n",
       "2021-01-11 01:45:10-05:00                   18.0      18.0    22.0  \n",
       "2021-01-11 01:45:13-05:00                   18.0      18.0    22.0  \n",
       "2021-01-11 01:48:24-05:00                   18.0      18.0    22.0  \n",
       "\n",
       "[131610 rows x 14 columns]"
      ],
      "text/html": "<div>\n<style scoped>\n    .dataframe tbody tr th:only-of-type {\n        vertical-align: middle;\n    }\n\n    .dataframe tbody tr th {\n        vertical-align: top;\n    }\n\n    .dataframe thead th {\n        text-align: right;\n    }\n</style>\n<table border=\"1\" class=\"dataframe\">\n  <thead>\n    <tr style=\"text-align: right;\">\n      <th></th>\n      <th>location</th>\n      <th>dt</th>\n      <th>temp_basement</th>\n      <th>Sys Out Temp.</th>\n      <th>filename</th>\n      <th>stove_exhaust_temp</th>\n      <th>Coil Power</th>\n      <th>motion</th>\n      <th>temperature</th>\n      <th>humidity</th>\n      <th>PPD</th>\n      <th>Indoor Temp. Setpoint</th>\n      <th>MA Temp.</th>\n      <th>Htg SP</th>\n    </tr>\n  </thead>\n  <tbody>\n    <tr>\n      <th>2020-12-04 08:39:19-05:00</th>\n      <td>house.kitchen</td>\n      <td>2020-12-04 08:39:19-05:00</td>\n      <td>NaN</td>\n      <td>NaN</td>\n      <td>thermostat-20201210-020913</td>\n      <td>NaN</td>\n      <td>NaN</td>\n      <td>True</td>\n      <td>NaN</td>\n      <td>NaN</td>\n      <td>NaN</td>\n      <td>NaN</td>\n      <td>NaN</td>\n      <td>NaN</td>\n    </tr>\n    <tr>\n      <th>2020-12-04 08:39:50-05:00</th>\n      <td>house.kitchen</td>\n      <td>2020-12-04 08:39:50-05:00</td>\n      <td>NaN</td>\n      <td>NaN</td>\n      <td>thermostat-20201210-020817</td>\n      <td>0.0</td>\n      <td>NaN</td>\n      <td>True</td>\n      <td>21.62470</td>\n      <td>49.51858</td>\n      <td>24.8</td>\n      <td>22.0</td>\n      <td>18.0</td>\n      <td>22.0</td>\n    </tr>\n    <tr>\n      <th>2020-12-04 08:43:36-05:00</th>\n      <td>house.kitchen</td>\n      <td>2020-12-04 08:43:36-05:00</td>\n      <td>NaN</td>\n      <td>NaN</td>\n      <td>thermostat-20201210-021017</td>\n      <td>0.0</td>\n      <td>NaN</td>\n      <td>False</td>\n      <td>21.79293</td>\n      <td>49.42245</td>\n      <td>22.8</td>\n      <td>22.0</td>\n      <td>18.0</td>\n      <td>22.0</td>\n    </tr>\n    <tr>\n      <th>2020-12-04 08:44:17-05:00</th>\n      <td>house.kitchen</td>\n      <td>2020-12-04 08:44:17-05:00</td>\n      <td>NaN</td>\n      <td>NaN</td>\n      <td>thermostat-20201210-021120</td>\n      <td>NaN</td>\n      <td>NaN</td>\n      <td>False</td>\n      <td>21.80896</td>\n      <td>48.55421</td>\n      <td>22.8</td>\n      <td>22.0</td>\n      <td>18.0</td>\n      <td>22.0</td>\n    </tr>\n    <tr>\n      <th>2020-12-04 08:44:17-05:00</th>\n      <td>house.kitchen</td>\n      <td>2020-12-04 08:44:17-05:00</td>\n      <td>NaN</td>\n      <td>NaN</td>\n      <td>thermostat-20201210-020819</td>\n      <td>NaN</td>\n      <td>NaN</td>\n      <td>False</td>\n      <td>21.80896</td>\n      <td>49.63913</td>\n      <td>22.5</td>\n      <td>22.0</td>\n      <td>18.0</td>\n      <td>22.0</td>\n    </tr>\n    <tr>\n      <th>...</th>\n      <td>...</td>\n      <td>...</td>\n      <td>...</td>\n      <td>...</td>\n      <td>...</td>\n      <td>...</td>\n      <td>...</td>\n      <td>...</td>\n      <td>...</td>\n      <td>...</td>\n      <td>...</td>\n      <td>...</td>\n      <td>...</td>\n      <td>...</td>\n    </tr>\n    <tr>\n      <th>2021-01-11 01:45:05-05:00</th>\n      <td>house.kitchen</td>\n      <td>2021-01-11 01:45:05-05:00</td>\n      <td>NaN</td>\n      <td>NaN</td>\n      <td>thermostat-20210111-014505</td>\n      <td>NaN</td>\n      <td>NaN</td>\n      <td>True</td>\n      <td>21.42710</td>\n      <td>48.40772</td>\n      <td>27.7</td>\n      <td>18.0</td>\n      <td>18.0</td>\n      <td>22.0</td>\n    </tr>\n    <tr>\n      <th>2021-01-11 01:45:08-05:00</th>\n      <td>house.kitchen</td>\n      <td>2021-01-11 01:45:08-05:00</td>\n      <td>NaN</td>\n      <td>NaN</td>\n      <td>thermostat-20210111-014508</td>\n      <td>NaN</td>\n      <td>NaN</td>\n      <td>False</td>\n      <td>21.44045</td>\n      <td>48.41077</td>\n      <td>27.5</td>\n      <td>18.0</td>\n      <td>18.0</td>\n      <td>22.0</td>\n    </tr>\n    <tr>\n      <th>2021-01-11 01:45:10-05:00</th>\n      <td>house.kitchen</td>\n      <td>2021-01-11 01:45:10-05:00</td>\n      <td>NaN</td>\n      <td>NaN</td>\n      <td>thermostat-20210111-014510</td>\n      <td>NaN</td>\n      <td>NaN</td>\n      <td>True</td>\n      <td>21.42710</td>\n      <td>48.37110</td>\n      <td>27.7</td>\n      <td>18.0</td>\n      <td>18.0</td>\n      <td>22.0</td>\n    </tr>\n    <tr>\n      <th>2021-01-11 01:45:13-05:00</th>\n      <td>house.kitchen</td>\n      <td>2021-01-11 01:45:13-05:00</td>\n      <td>NaN</td>\n      <td>NaN</td>\n      <td>thermostat-20210111-014513</td>\n      <td>NaN</td>\n      <td>NaN</td>\n      <td>False</td>\n      <td>21.42710</td>\n      <td>48.38483</td>\n      <td>27.7</td>\n      <td>18.0</td>\n      <td>18.0</td>\n      <td>22.0</td>\n    </tr>\n    <tr>\n      <th>2021-01-11 01:48:24-05:00</th>\n      <td>house.kitchen</td>\n      <td>2021-01-11 01:48:24-05:00</td>\n      <td>NaN</td>\n      <td>NaN</td>\n      <td>thermostat-20210111-014828</td>\n      <td>NaN</td>\n      <td>NaN</td>\n      <td>False</td>\n      <td>21.45380</td>\n      <td>48.37568</td>\n      <td>27.4</td>\n      <td>18.0</td>\n      <td>18.0</td>\n      <td>22.0</td>\n    </tr>\n  </tbody>\n</table>\n<p>131610 rows × 14 columns</p>\n</div>"
     },
     "metadata": {},
     "execution_count": 2
    }
   ],
   "source": [
    "b = bucket.get_blob('_thermostat_metric_data.p')\n",
    "\n",
    "pickle_load = b.download_as_bytes()\n",
    "thermostat_metric_data = pickle.loads(pickle_load)\n",
    "thermostat_metric_data.sort_index(inplace=True)\n",
    "#thermostat_metric_data['hash'] = pd.util.hash_pandas_object(thermostat_metric_data)\n",
    "#thermostat_metric_data = thermostat_metric_data[~thermostat_metric_data.duplicated(keep='first')]\n",
    "thermostat_metric_data"
   ]
  },
  {
   "cell_type": "code",
   "execution_count": 3,
   "metadata": {
    "tags": []
   },
   "outputs": [
    {
     "output_type": "error",
     "ename": "KeyError",
     "evalue": "'filename'",
     "traceback": [
      "\u001b[1;31m---------------------------------------------------------------------------\u001b[0m",
      "\u001b[1;31mKeyError\u001b[0m                                  Traceback (most recent call last)",
      "\u001b[1;32mc:\\Users\\T834432\\Documents\\personnel\\thermostat\\thermostat-agent\\.venv\\lib\\site-packages\\pandas\\core\\indexes\\base.py\u001b[0m in \u001b[0;36mget_loc\u001b[1;34m(self, key, method, tolerance)\u001b[0m\n\u001b[0;32m   2894\u001b[0m             \u001b[1;32mtry\u001b[0m\u001b[1;33m:\u001b[0m\u001b[1;33m\u001b[0m\u001b[1;33m\u001b[0m\u001b[0m\n\u001b[1;32m-> 2895\u001b[1;33m                 \u001b[1;32mreturn\u001b[0m \u001b[0mself\u001b[0m\u001b[1;33m.\u001b[0m\u001b[0m_engine\u001b[0m\u001b[1;33m.\u001b[0m\u001b[0mget_loc\u001b[0m\u001b[1;33m(\u001b[0m\u001b[0mcasted_key\u001b[0m\u001b[1;33m)\u001b[0m\u001b[1;33m\u001b[0m\u001b[1;33m\u001b[0m\u001b[0m\n\u001b[0m\u001b[0;32m   2896\u001b[0m             \u001b[1;32mexcept\u001b[0m \u001b[0mKeyError\u001b[0m \u001b[1;32mas\u001b[0m \u001b[0merr\u001b[0m\u001b[1;33m:\u001b[0m\u001b[1;33m\u001b[0m\u001b[1;33m\u001b[0m\u001b[0m\n",
      "\u001b[1;32mpandas\\_libs\\index.pyx\u001b[0m in \u001b[0;36mpandas._libs.index.IndexEngine.get_loc\u001b[1;34m()\u001b[0m\n",
      "\u001b[1;32mpandas\\_libs\\index.pyx\u001b[0m in \u001b[0;36mpandas._libs.index.IndexEngine.get_loc\u001b[1;34m()\u001b[0m\n",
      "\u001b[1;32mpandas\\_libs\\hashtable_class_helper.pxi\u001b[0m in \u001b[0;36mpandas._libs.hashtable.PyObjectHashTable.get_item\u001b[1;34m()\u001b[0m\n",
      "\u001b[1;32mpandas\\_libs\\hashtable_class_helper.pxi\u001b[0m in \u001b[0;36mpandas._libs.hashtable.PyObjectHashTable.get_item\u001b[1;34m()\u001b[0m\n",
      "\u001b[1;31mKeyError\u001b[0m: 'filename'",
      "\nThe above exception was the direct cause of the following exception:\n",
      "\u001b[1;31mKeyError\u001b[0m                                  Traceback (most recent call last)",
      "\u001b[1;32m<ipython-input-3-8831b59dfa74>\u001b[0m in \u001b[0;36m<module>\u001b[1;34m\u001b[0m\n\u001b[0;32m     19\u001b[0m ]\n\u001b[0;32m     20\u001b[0m \u001b[1;33m\u001b[0m\u001b[0m\n\u001b[1;32m---> 21\u001b[1;33m \u001b[0mexisting_files\u001b[0m \u001b[1;33m=\u001b[0m \u001b[0mset\u001b[0m\u001b[1;33m(\u001b[0m\u001b[0mthermostat_metric_data\u001b[0m\u001b[1;33m[\u001b[0m\u001b[1;34m'filename'\u001b[0m\u001b[1;33m]\u001b[0m\u001b[1;33m.\u001b[0m\u001b[0mtolist\u001b[0m\u001b[1;33m(\u001b[0m\u001b[1;33m)\u001b[0m\u001b[1;33m)\u001b[0m\u001b[1;33m\u001b[0m\u001b[1;33m\u001b[0m\u001b[0m\n\u001b[0m\u001b[0;32m     22\u001b[0m \u001b[0monlyfiles\u001b[0m \u001b[1;33m=\u001b[0m \u001b[0mset\u001b[0m\u001b[1;33m(\u001b[0m\u001b[0monlyfiles\u001b[0m\u001b[1;33m)\u001b[0m \u001b[1;33m-\u001b[0m \u001b[0mexisting_files\u001b[0m\u001b[1;33m\u001b[0m\u001b[1;33m\u001b[0m\u001b[0m\n\u001b[0;32m     23\u001b[0m \u001b[1;33m\u001b[0m\u001b[0m\n",
      "\u001b[1;32mc:\\Users\\T834432\\Documents\\personnel\\thermostat\\thermostat-agent\\.venv\\lib\\site-packages\\pandas\\core\\frame.py\u001b[0m in \u001b[0;36m__getitem__\u001b[1;34m(self, key)\u001b[0m\n\u001b[0;32m   2904\u001b[0m             \u001b[1;32mif\u001b[0m \u001b[0mself\u001b[0m\u001b[1;33m.\u001b[0m\u001b[0mcolumns\u001b[0m\u001b[1;33m.\u001b[0m\u001b[0mnlevels\u001b[0m \u001b[1;33m>\u001b[0m \u001b[1;36m1\u001b[0m\u001b[1;33m:\u001b[0m\u001b[1;33m\u001b[0m\u001b[1;33m\u001b[0m\u001b[0m\n\u001b[0;32m   2905\u001b[0m                 \u001b[1;32mreturn\u001b[0m \u001b[0mself\u001b[0m\u001b[1;33m.\u001b[0m\u001b[0m_getitem_multilevel\u001b[0m\u001b[1;33m(\u001b[0m\u001b[0mkey\u001b[0m\u001b[1;33m)\u001b[0m\u001b[1;33m\u001b[0m\u001b[1;33m\u001b[0m\u001b[0m\n\u001b[1;32m-> 2906\u001b[1;33m             \u001b[0mindexer\u001b[0m \u001b[1;33m=\u001b[0m \u001b[0mself\u001b[0m\u001b[1;33m.\u001b[0m\u001b[0mcolumns\u001b[0m\u001b[1;33m.\u001b[0m\u001b[0mget_loc\u001b[0m\u001b[1;33m(\u001b[0m\u001b[0mkey\u001b[0m\u001b[1;33m)\u001b[0m\u001b[1;33m\u001b[0m\u001b[1;33m\u001b[0m\u001b[0m\n\u001b[0m\u001b[0;32m   2907\u001b[0m             \u001b[1;32mif\u001b[0m \u001b[0mis_integer\u001b[0m\u001b[1;33m(\u001b[0m\u001b[0mindexer\u001b[0m\u001b[1;33m)\u001b[0m\u001b[1;33m:\u001b[0m\u001b[1;33m\u001b[0m\u001b[1;33m\u001b[0m\u001b[0m\n\u001b[0;32m   2908\u001b[0m                 \u001b[0mindexer\u001b[0m \u001b[1;33m=\u001b[0m \u001b[1;33m[\u001b[0m\u001b[0mindexer\u001b[0m\u001b[1;33m]\u001b[0m\u001b[1;33m\u001b[0m\u001b[1;33m\u001b[0m\u001b[0m\n",
      "\u001b[1;32mc:\\Users\\T834432\\Documents\\personnel\\thermostat\\thermostat-agent\\.venv\\lib\\site-packages\\pandas\\core\\indexes\\base.py\u001b[0m in \u001b[0;36mget_loc\u001b[1;34m(self, key, method, tolerance)\u001b[0m\n\u001b[0;32m   2895\u001b[0m                 \u001b[1;32mreturn\u001b[0m \u001b[0mself\u001b[0m\u001b[1;33m.\u001b[0m\u001b[0m_engine\u001b[0m\u001b[1;33m.\u001b[0m\u001b[0mget_loc\u001b[0m\u001b[1;33m(\u001b[0m\u001b[0mcasted_key\u001b[0m\u001b[1;33m)\u001b[0m\u001b[1;33m\u001b[0m\u001b[1;33m\u001b[0m\u001b[0m\n\u001b[0;32m   2896\u001b[0m             \u001b[1;32mexcept\u001b[0m \u001b[0mKeyError\u001b[0m \u001b[1;32mas\u001b[0m \u001b[0merr\u001b[0m\u001b[1;33m:\u001b[0m\u001b[1;33m\u001b[0m\u001b[1;33m\u001b[0m\u001b[0m\n\u001b[1;32m-> 2897\u001b[1;33m                 \u001b[1;32mraise\u001b[0m \u001b[0mKeyError\u001b[0m\u001b[1;33m(\u001b[0m\u001b[0mkey\u001b[0m\u001b[1;33m)\u001b[0m \u001b[1;32mfrom\u001b[0m \u001b[0merr\u001b[0m\u001b[1;33m\u001b[0m\u001b[1;33m\u001b[0m\u001b[0m\n\u001b[0m\u001b[0;32m   2898\u001b[0m \u001b[1;33m\u001b[0m\u001b[0m\n\u001b[0;32m   2899\u001b[0m         \u001b[1;32mif\u001b[0m \u001b[0mtolerance\u001b[0m \u001b[1;32mis\u001b[0m \u001b[1;32mnot\u001b[0m \u001b[1;32mNone\u001b[0m\u001b[1;33m:\u001b[0m\u001b[1;33m\u001b[0m\u001b[1;33m\u001b[0m\u001b[0m\n",
      "\u001b[1;31mKeyError\u001b[0m: 'filename'"
     ]
    }
   ],
   "source": [
    "import pandas as pd\n",
    "from yadt import scan_and_apply_tz, utcnow\n",
    "import json\n",
    "from datetime import datetime\n",
    "from thermostat_aggregation_utils import aggregate_to_dataframe, metric_str_to_json\n",
    "\n",
    "from tqdm import tqdm\n",
    "\n",
    "from os import listdir\n",
    "from os.path import isfile, join\n",
    "\n",
    "thermostat_metric_data = pd.DataFrame()\n",
    "#onlyfiles = [f for f in listdir('dump') if isfile(join('dump', f))]\n",
    "#onlyfiles.reverse()\n",
    "\n",
    "\n",
    "onlyfiles = [\n",
    "    f for f in listdir('dump') if isfile(join('dump', f)) and (\n",
    "        f.startswith('thermostat-')\n",
    "        or f.startswith('environment_sensor_basement-'))\n",
    "]\n",
    "\n",
    "#existing_files = set(thermostat_metric_data['filename'].tolist())\n",
    "#onlyfiles = set(onlyfiles) - existing_files\n",
    "\n",
    "#print(f\"Files to process : {len(onlyfiles)}\")\n",
    "\n",
    "load_date = utcnow()\n",
    "\n",
    "exist = 0\n",
    "processed = 0\n",
    "for f in tqdm(onlyfiles):\n",
    "\n",
    "    with open('dump/'+f, 'r') as file:\n",
    "        data = file.read().replace('\\n', '')\n",
    "        #print(f)\n",
    "        try:\n",
    "            last_json = metric_str_to_json(data)\n",
    "            \n",
    "            merge, thermostat_metric_data = aggregate_to_dataframe(f,last_json, thermostat_metric_data, load_date)\n",
    "\n",
    "\n",
    "            if merge:\n",
    "                #print(f\"Import {f}\")\n",
    "                processed = processed + 1\n",
    "            else:\n",
    "                #print(f\"PASS - {f}\")\n",
    "                exist = exist+1\n",
    "            \n",
    "            #if exist > 200:\n",
    "                #break\n",
    "            \n",
    "        except Exception as e:\n",
    "            raise e\n",
    "            #else:\n",
    "            #    pass\n",
    "            #print(data)\n",
    "\n",
    "thermostat_metric_data\n",
    "        "
   ]
  },
  {
   "cell_type": "code",
   "execution_count": 6,
   "metadata": {},
   "outputs": [
    {
     "output_type": "stream",
     "name": "stderr",
     "text": [
      "c:\\Users\\T834432\\Documents\\personnel\\thermostat\\thermostat-agent\\.venv\\lib\\site-packages\\ipykernel\\ipkernel.py:287: DeprecationWarning: `should_run_async` will not call `transform_cell` automatically in the future. Please pass the result to `transformed_cell` argument and any exception that happen during thetransform in `preprocessing_exc_tuple` in IPython 7.17 and above.\n  and should_run_async(code)\n"
     ]
    },
    {
     "output_type": "execute_result",
     "data": {
      "text/plain": [
       "Timestamp('2021-01-09 23:03:51-0500', tz='America/Toronto')"
      ]
     },
     "metadata": {},
     "execution_count": 6
    }
   ],
   "source": [
    "thermostat_metric_data[thermostat_metric_data['filename'].str.startswith('environment')].index.max()"
   ]
  },
  {
   "cell_type": "code",
   "execution_count": null,
   "metadata": {},
   "outputs": [],
   "source": [
    "thermostat_metric_data['location']"
   ]
  },
  {
   "cell_type": "code",
   "execution_count": 18,
   "metadata": {},
   "outputs": [
    {
     "output_type": "stream",
     "name": "stderr",
     "text": [
      "c:\\Users\\T834432\\Documents\\personnel\\thermostat\\thermostat-agent\\.venv\\lib\\site-packages\\ipykernel\\ipkernel.py:287: DeprecationWarning: `should_run_async` will not call `transform_cell` automatically in the future. Please pass the result to `transformed_cell` argument and any exception that happen during thetransform in `preprocessing_exc_tuple` in IPython 7.17 and above.\n  and should_run_async(code)\n"
     ]
    },
    {
     "output_type": "execute_result",
     "data": {
      "text/plain": [
       "                                 location                        dt  \\\n",
       "2020-12-04 08:39:19-05:00   house.kitchen 2020-12-04 08:39:19-05:00   \n",
       "2020-12-04 08:39:50-05:00   house.kitchen 2020-12-04 08:39:50-05:00   \n",
       "2020-12-04 08:43:36-05:00   house.kitchen 2020-12-04 08:43:36-05:00   \n",
       "2020-12-04 08:44:17-05:00   house.kitchen 2020-12-04 08:44:17-05:00   \n",
       "2020-12-04 08:44:17-05:00   house.kitchen 2020-12-04 08:44:17-05:00   \n",
       "...                                   ...                       ...   \n",
       "2021-01-10 11:29:27-05:00   house.kitchen 2021-01-10 11:29:27-05:00   \n",
       "2021-01-10 11:29:30-05:00   house.kitchen 2021-01-10 11:29:30-05:00   \n",
       "2021-01-10 11:29:35-05:00   house.kitchen 2021-01-10 11:29:35-05:00   \n",
       "2021-01-10 11:29:37-05:00   house.kitchen 2021-01-10 11:29:37-05:00   \n",
       "2021-01-10 11:29:37-05:00  house.basement 2021-01-10 11:29:37-05:00   \n",
       "\n",
       "                          temp_basement Sys Out Temp.  \\\n",
       "2020-12-04 08:39:19-05:00           NaN           NaN   \n",
       "2020-12-04 08:39:50-05:00           NaN           NaN   \n",
       "2020-12-04 08:43:36-05:00           NaN           NaN   \n",
       "2020-12-04 08:44:17-05:00           NaN           NaN   \n",
       "2020-12-04 08:44:17-05:00           NaN           NaN   \n",
       "...                                 ...           ...   \n",
       "2021-01-10 11:29:27-05:00           NaN           NaN   \n",
       "2021-01-10 11:29:30-05:00           NaN           NaN   \n",
       "2021-01-10 11:29:35-05:00           NaN           NaN   \n",
       "2021-01-10 11:29:37-05:00           NaN           NaN   \n",
       "2021-01-10 11:29:37-05:00         22.97         22.97   \n",
       "\n",
       "                                                              filename  \\\n",
       "2020-12-04 08:39:19-05:00                   thermostat-20201210-020913   \n",
       "2020-12-04 08:39:50-05:00                   thermostat-20201210-020817   \n",
       "2020-12-04 08:43:36-05:00                   thermostat-20201210-021017   \n",
       "2020-12-04 08:44:17-05:00                   thermostat-20201210-021120   \n",
       "2020-12-04 08:44:17-05:00                   thermostat-20201210-020819   \n",
       "...                                                                ...   \n",
       "2021-01-10 11:29:27-05:00                   thermostat-20210110-162927   \n",
       "2021-01-10 11:29:30-05:00                   thermostat-20210110-162930   \n",
       "2021-01-10 11:29:35-05:00                   thermostat-20210110-162935   \n",
       "2021-01-10 11:29:37-05:00                   thermostat-20210110-162937   \n",
       "2021-01-10 11:29:37-05:00  environment_sensor_basement-20210110-162937   \n",
       "\n",
       "                           stove_exhaust_temp  Coil Power motion  temperature  \\\n",
       "2020-12-04 08:39:19-05:00                 NaN         NaN   True          NaN   \n",
       "2020-12-04 08:39:50-05:00                 0.0         NaN   True     21.62470   \n",
       "2020-12-04 08:43:36-05:00                 0.0         NaN  False     21.79293   \n",
       "2020-12-04 08:44:17-05:00                 NaN         NaN  False     21.80896   \n",
       "2020-12-04 08:44:17-05:00                 NaN         NaN  False     21.80896   \n",
       "...                                       ...         ...    ...          ...   \n",
       "2021-01-10 11:29:27-05:00                 NaN         NaN   True     22.47387   \n",
       "2021-01-10 11:29:30-05:00                 NaN         NaN  False     22.48989   \n",
       "2021-01-10 11:29:35-05:00                 NaN         NaN   True     22.48989   \n",
       "2021-01-10 11:29:37-05:00                 NaN         NaN  False     22.48989   \n",
       "2021-01-10 11:29:37-05:00                 NaN         NaN    NaN          NaN   \n",
       "\n",
       "                           humidity   PPD  Indoor Temp. Setpoint  MA Temp.  \\\n",
       "2020-12-04 08:39:19-05:00       NaN   NaN                    NaN       NaN   \n",
       "2020-12-04 08:39:50-05:00  49.51858  24.8                   22.0      18.0   \n",
       "2020-12-04 08:43:36-05:00  49.42245  22.8                   22.0      18.0   \n",
       "2020-12-04 08:44:17-05:00  48.55421  22.8                   22.0      18.0   \n",
       "2020-12-04 08:44:17-05:00  49.63913  22.5                   22.0      18.0   \n",
       "...                             ...   ...                    ...       ...   \n",
       "2021-01-10 11:29:27-05:00  42.60166  17.0                   22.0      18.0   \n",
       "2021-01-10 11:29:30-05:00  42.61539  16.9                   22.0      18.0   \n",
       "2021-01-10 11:29:35-05:00  42.64286  16.9                   22.0      18.0   \n",
       "2021-01-10 11:29:37-05:00  42.67949  16.9                   22.0      18.0   \n",
       "2021-01-10 11:29:37-05:00       NaN   NaN                    NaN       NaN   \n",
       "\n",
       "                           Htg SP  \n",
       "2020-12-04 08:39:19-05:00     NaN  \n",
       "2020-12-04 08:39:50-05:00    22.0  \n",
       "2020-12-04 08:43:36-05:00    22.0  \n",
       "2020-12-04 08:44:17-05:00    22.0  \n",
       "2020-12-04 08:44:17-05:00    22.0  \n",
       "...                           ...  \n",
       "2021-01-10 11:29:27-05:00    22.0  \n",
       "2021-01-10 11:29:30-05:00    22.0  \n",
       "2021-01-10 11:29:35-05:00    22.0  \n",
       "2021-01-10 11:29:37-05:00    22.0  \n",
       "2021-01-10 11:29:37-05:00     NaN  \n",
       "\n",
       "[129440 rows x 14 columns]"
      ],
      "text/html": "<div>\n<style scoped>\n    .dataframe tbody tr th:only-of-type {\n        vertical-align: middle;\n    }\n\n    .dataframe tbody tr th {\n        vertical-align: top;\n    }\n\n    .dataframe thead th {\n        text-align: right;\n    }\n</style>\n<table border=\"1\" class=\"dataframe\">\n  <thead>\n    <tr style=\"text-align: right;\">\n      <th></th>\n      <th>location</th>\n      <th>dt</th>\n      <th>temp_basement</th>\n      <th>Sys Out Temp.</th>\n      <th>filename</th>\n      <th>stove_exhaust_temp</th>\n      <th>Coil Power</th>\n      <th>motion</th>\n      <th>temperature</th>\n      <th>humidity</th>\n      <th>PPD</th>\n      <th>Indoor Temp. Setpoint</th>\n      <th>MA Temp.</th>\n      <th>Htg SP</th>\n    </tr>\n  </thead>\n  <tbody>\n    <tr>\n      <th>2020-12-04 08:39:19-05:00</th>\n      <td>house.kitchen</td>\n      <td>2020-12-04 08:39:19-05:00</td>\n      <td>NaN</td>\n      <td>NaN</td>\n      <td>thermostat-20201210-020913</td>\n      <td>NaN</td>\n      <td>NaN</td>\n      <td>True</td>\n      <td>NaN</td>\n      <td>NaN</td>\n      <td>NaN</td>\n      <td>NaN</td>\n      <td>NaN</td>\n      <td>NaN</td>\n    </tr>\n    <tr>\n      <th>2020-12-04 08:39:50-05:00</th>\n      <td>house.kitchen</td>\n      <td>2020-12-04 08:39:50-05:00</td>\n      <td>NaN</td>\n      <td>NaN</td>\n      <td>thermostat-20201210-020817</td>\n      <td>0.0</td>\n      <td>NaN</td>\n      <td>True</td>\n      <td>21.62470</td>\n      <td>49.51858</td>\n      <td>24.8</td>\n      <td>22.0</td>\n      <td>18.0</td>\n      <td>22.0</td>\n    </tr>\n    <tr>\n      <th>2020-12-04 08:43:36-05:00</th>\n      <td>house.kitchen</td>\n      <td>2020-12-04 08:43:36-05:00</td>\n      <td>NaN</td>\n      <td>NaN</td>\n      <td>thermostat-20201210-021017</td>\n      <td>0.0</td>\n      <td>NaN</td>\n      <td>False</td>\n      <td>21.79293</td>\n      <td>49.42245</td>\n      <td>22.8</td>\n      <td>22.0</td>\n      <td>18.0</td>\n      <td>22.0</td>\n    </tr>\n    <tr>\n      <th>2020-12-04 08:44:17-05:00</th>\n      <td>house.kitchen</td>\n      <td>2020-12-04 08:44:17-05:00</td>\n      <td>NaN</td>\n      <td>NaN</td>\n      <td>thermostat-20201210-021120</td>\n      <td>NaN</td>\n      <td>NaN</td>\n      <td>False</td>\n      <td>21.80896</td>\n      <td>48.55421</td>\n      <td>22.8</td>\n      <td>22.0</td>\n      <td>18.0</td>\n      <td>22.0</td>\n    </tr>\n    <tr>\n      <th>2020-12-04 08:44:17-05:00</th>\n      <td>house.kitchen</td>\n      <td>2020-12-04 08:44:17-05:00</td>\n      <td>NaN</td>\n      <td>NaN</td>\n      <td>thermostat-20201210-020819</td>\n      <td>NaN</td>\n      <td>NaN</td>\n      <td>False</td>\n      <td>21.80896</td>\n      <td>49.63913</td>\n      <td>22.5</td>\n      <td>22.0</td>\n      <td>18.0</td>\n      <td>22.0</td>\n    </tr>\n    <tr>\n      <th>...</th>\n      <td>...</td>\n      <td>...</td>\n      <td>...</td>\n      <td>...</td>\n      <td>...</td>\n      <td>...</td>\n      <td>...</td>\n      <td>...</td>\n      <td>...</td>\n      <td>...</td>\n      <td>...</td>\n      <td>...</td>\n      <td>...</td>\n      <td>...</td>\n    </tr>\n    <tr>\n      <th>2021-01-10 11:29:27-05:00</th>\n      <td>house.kitchen</td>\n      <td>2021-01-10 11:29:27-05:00</td>\n      <td>NaN</td>\n      <td>NaN</td>\n      <td>thermostat-20210110-162927</td>\n      <td>NaN</td>\n      <td>NaN</td>\n      <td>True</td>\n      <td>22.47387</td>\n      <td>42.60166</td>\n      <td>17.0</td>\n      <td>22.0</td>\n      <td>18.0</td>\n      <td>22.0</td>\n    </tr>\n    <tr>\n      <th>2021-01-10 11:29:30-05:00</th>\n      <td>house.kitchen</td>\n      <td>2021-01-10 11:29:30-05:00</td>\n      <td>NaN</td>\n      <td>NaN</td>\n      <td>thermostat-20210110-162930</td>\n      <td>NaN</td>\n      <td>NaN</td>\n      <td>False</td>\n      <td>22.48989</td>\n      <td>42.61539</td>\n      <td>16.9</td>\n      <td>22.0</td>\n      <td>18.0</td>\n      <td>22.0</td>\n    </tr>\n    <tr>\n      <th>2021-01-10 11:29:35-05:00</th>\n      <td>house.kitchen</td>\n      <td>2021-01-10 11:29:35-05:00</td>\n      <td>NaN</td>\n      <td>NaN</td>\n      <td>thermostat-20210110-162935</td>\n      <td>NaN</td>\n      <td>NaN</td>\n      <td>True</td>\n      <td>22.48989</td>\n      <td>42.64286</td>\n      <td>16.9</td>\n      <td>22.0</td>\n      <td>18.0</td>\n      <td>22.0</td>\n    </tr>\n    <tr>\n      <th>2021-01-10 11:29:37-05:00</th>\n      <td>house.kitchen</td>\n      <td>2021-01-10 11:29:37-05:00</td>\n      <td>NaN</td>\n      <td>NaN</td>\n      <td>thermostat-20210110-162937</td>\n      <td>NaN</td>\n      <td>NaN</td>\n      <td>False</td>\n      <td>22.48989</td>\n      <td>42.67949</td>\n      <td>16.9</td>\n      <td>22.0</td>\n      <td>18.0</td>\n      <td>22.0</td>\n    </tr>\n    <tr>\n      <th>2021-01-10 11:29:37-05:00</th>\n      <td>house.basement</td>\n      <td>2021-01-10 11:29:37-05:00</td>\n      <td>22.97</td>\n      <td>22.97</td>\n      <td>environment_sensor_basement-20210110-162937</td>\n      <td>NaN</td>\n      <td>NaN</td>\n      <td>NaN</td>\n      <td>NaN</td>\n      <td>NaN</td>\n      <td>NaN</td>\n      <td>NaN</td>\n      <td>NaN</td>\n      <td>NaN</td>\n    </tr>\n  </tbody>\n</table>\n<p>129440 rows × 14 columns</p>\n</div>"
     },
     "metadata": {},
     "execution_count": 18
    }
   ],
   "source": [
    "#thermostat_metric_data['location'] = thermostat_metric_data.apply(lambda x : x['site'] if pd.isna(x['location']) else x['location'], axis = 1)\n",
    "#thermostat_metric_data = thermostat_metric_data[~thermostat_metric_data.duplicated(keep='first')]\n",
    "thermostat_metric_data.sort_index(inplace=True)\n",
    "thermostat_metric_data"
   ]
  },
  {
   "cell_type": "code",
   "execution_count": 19,
   "metadata": {},
   "outputs": [
    {
     "output_type": "stream",
     "name": "stderr",
     "text": [
      "c:\\Users\\T834432\\Documents\\personnel\\thermostat\\thermostat-agent\\.venv\\lib\\site-packages\\ipykernel\\ipkernel.py:287: DeprecationWarning: `should_run_async` will not call `transform_cell` automatically in the future. Please pass the result to `transformed_cell` argument and any exception that happen during thetransform in `preprocessing_exc_tuple` in IPython 7.17 and above.\n  and should_run_async(code)\n"
     ]
    }
   ],
   "source": [
    "pickle_dump = pickle.dumps(thermostat_metric_data)\n",
    "b = bucket.blob('_thermostat_metric_data.p')\n",
    "b.temporary_hold = False\n",
    "b.patch()\n",
    "b.upload_from_string(data=pickle_dump, content_type='text/plain')\n"
   ]
  },
  {
   "cell_type": "code",
   "execution_count": null,
   "metadata": {},
   "outputs": [],
   "source": [
    "pickle.dump(thermostat_metric_data,open( \"test/_thermostat_metric_data.p\", \"wb\" ))"
   ]
  },
  {
   "cell_type": "code",
   "execution_count": null,
   "metadata": {},
   "outputs": [],
   "source": [
    "thermostat_metric_data[thermostat_metric_data['location'] == 'house.basement']\n"
   ]
  },
  {
   "cell_type": "code",
   "execution_count": null,
   "metadata": {},
   "outputs": [],
   "source": [
    "onlyfiles = [f for f in listdir('dump') if isfile(join('dump', f)) and f.startswith('environment')]\n",
    "x = onlyfiles.index('environment_sensor_basement-20201220-151228')\n",
    "del onlyfiles[:x]\n",
    "len(onlyfiles)"
   ]
  },
  {
   "cell_type": "code",
   "execution_count": null,
   "metadata": {},
   "outputs": [],
   "source": [
    "%load_ext autoreload\n",
    "%autoreload 2"
   ]
  },
  {
   "cell_type": "code",
   "execution_count": null,
   "metadata": {},
   "outputs": [],
   "source": [
    "\n",
    "pickle_dump = pickle.dumps(onlyfiles)\n",
    "b = bucket.blob('thermostat_metric_list.p')\n",
    "\n",
    "b.upload_from_string(data=pickle_dump, content_type='text/plain')"
   ]
  },
  {
   "cell_type": "code",
   "execution_count": null,
   "metadata": {},
   "outputs": [],
   "source": [
    "b = bucket.get_blob('thermostat_metric_list.p')\n",
    "\n",
    "pickle_load = b.download_as_bytes()\n",
    "test = pickle.loads(pickle_load)\n",
    "test"
   ]
  },
  {
   "cell_type": "code",
   "execution_count": null,
   "metadata": {},
   "outputs": [],
   "source": [
    "pd.util.hash_pandas_object(test)"
   ]
  },
  {
   "cell_type": "code",
   "execution_count": null,
   "metadata": {},
   "outputs": [],
   "source": [
    "pd.util.hash_pandas_object(test)\n"
   ]
  },
  {
   "cell_type": "code",
   "execution_count": null,
   "metadata": {},
   "outputs": [],
   "source": []
  },
  {
   "cell_type": "code",
   "execution_count": 11,
   "metadata": {},
   "outputs": [
    {
     "output_type": "stream",
     "name": "stderr",
     "text": [
      "c:\\Users\\T834432\\Documents\\personnel\\thermostat\\thermostat-agent\\.venv\\lib\\site-packages\\ipykernel\\ipkernel.py:287: DeprecationWarning: `should_run_async` will not call `transform_cell` automatically in the future. Please pass the result to `transformed_cell` argument and any exception that happen during thetransform in `preprocessing_exc_tuple` in IPython 7.17 and above.\n  and should_run_async(code)\n"
     ]
    },
    {
     "output_type": "execute_result",
     "data": {
      "text/plain": [
       "                                       location                        dt  \\\n",
       "2020-12-07 12:29:07-05:00  house.basement.stove 2020-12-07 12:29:07-05:00   \n",
       "2020-12-07 12:29:38-05:00  house.basement.stove 2020-12-07 12:29:38-05:00   \n",
       "2020-12-07 12:30:09-05:00  house.basement.stove 2020-12-07 12:30:09-05:00   \n",
       "2020-12-07 12:31:42-05:00  house.basement.stove 2020-12-07 12:31:42-05:00   \n",
       "2020-12-07 12:33:48-05:00  house.basement.stove 2020-12-07 12:33:48-05:00   \n",
       "...                                         ...                       ...   \n",
       "2021-01-10 13:21:53-05:00  house.basement.stove 2021-01-10 13:21:53-05:00   \n",
       "2021-01-10 13:26:54-05:00  house.basement.stove 2021-01-10 13:26:54-05:00   \n",
       "2021-01-10 13:31:54-05:00  house.basement.stove 2021-01-10 13:31:54-05:00   \n",
       "2021-01-10 13:36:55-05:00  house.basement.stove 2021-01-10 13:36:55-05:00   \n",
       "2021-01-10 13:41:56-05:00  house.basement.stove 2021-01-10 13:41:56-05:00   \n",
       "\n",
       "                          temp_basement Sys Out Temp.  \\\n",
       "2020-12-07 12:29:07-05:00           NaN           NaN   \n",
       "2020-12-07 12:29:38-05:00           NaN           NaN   \n",
       "2020-12-07 12:30:09-05:00           NaN           NaN   \n",
       "2020-12-07 12:31:42-05:00           NaN           NaN   \n",
       "2020-12-07 12:33:48-05:00           NaN           NaN   \n",
       "...                                 ...           ...   \n",
       "2021-01-10 13:21:53-05:00           NaN           NaN   \n",
       "2021-01-10 13:26:54-05:00           NaN           NaN   \n",
       "2021-01-10 13:31:54-05:00           NaN           NaN   \n",
       "2021-01-10 13:36:55-05:00           NaN           NaN   \n",
       "2021-01-10 13:41:56-05:00           NaN           NaN   \n",
       "\n",
       "                                             filename  stove_exhaust_temp  \\\n",
       "2020-12-07 12:29:07-05:00  thermostat-20201210-022225             19.0000   \n",
       "2020-12-07 12:29:38-05:00  thermostat-20201210-021324             19.7500   \n",
       "2020-12-07 12:30:09-05:00  thermostat-20201210-021859             19.8750   \n",
       "2020-12-07 12:31:42-05:00  thermostat-20201210-021653             19.7500   \n",
       "2020-12-07 12:33:48-05:00  thermostat-20201210-022039             19.7500   \n",
       "...                                               ...                 ...   \n",
       "2021-01-10 13:21:53-05:00  thermostat-20210110-132153             19.6250   \n",
       "2021-01-10 13:26:54-05:00  thermostat-20210110-132654             21.1875   \n",
       "2021-01-10 13:31:54-05:00  thermostat-20210110-133155             73.8125   \n",
       "2021-01-10 13:36:55-05:00  thermostat-20210110-133655            119.2500   \n",
       "2021-01-10 13:41:56-05:00  thermostat-20210110-134156            111.1875   \n",
       "\n",
       "                            Coil Power motion  temperature  humidity  PPD  \\\n",
       "2020-12-07 12:29:07-05:00     0.000000    NaN          NaN       NaN  NaN   \n",
       "2020-12-07 12:29:38-05:00     0.000000    NaN          NaN       NaN  NaN   \n",
       "2020-12-07 12:30:09-05:00     0.000000    NaN          NaN       NaN  NaN   \n",
       "2020-12-07 12:31:42-05:00     0.000000    NaN          NaN       NaN  NaN   \n",
       "2020-12-07 12:33:48-05:00     0.000000    NaN          NaN       NaN  NaN   \n",
       "...                                ...    ...          ...       ...  ...   \n",
       "2021-01-10 13:21:53-05:00     0.000000    NaN          NaN       NaN  NaN   \n",
       "2021-01-10 13:26:54-05:00     0.000000    NaN          NaN       NaN  NaN   \n",
       "2021-01-10 13:31:54-05:00  6026.474631    NaN          NaN       NaN  NaN   \n",
       "2021-01-10 13:36:55-05:00  9736.251986    NaN          NaN       NaN  NaN   \n",
       "2021-01-10 13:41:56-05:00  9077.983377    NaN          NaN       NaN  NaN   \n",
       "\n",
       "                           Indoor Temp. Setpoint  MA Temp.  Htg SP  \n",
       "2020-12-07 12:29:07-05:00                    NaN       NaN     NaN  \n",
       "2020-12-07 12:29:38-05:00                    NaN       NaN     NaN  \n",
       "2020-12-07 12:30:09-05:00                    NaN       NaN     NaN  \n",
       "2020-12-07 12:31:42-05:00                    NaN       NaN     NaN  \n",
       "2020-12-07 12:33:48-05:00                    NaN       NaN     NaN  \n",
       "...                                          ...       ...     ...  \n",
       "2021-01-10 13:21:53-05:00                    NaN       NaN     NaN  \n",
       "2021-01-10 13:26:54-05:00                    NaN       NaN     NaN  \n",
       "2021-01-10 13:31:54-05:00                    NaN       NaN     NaN  \n",
       "2021-01-10 13:36:55-05:00                    NaN       NaN     NaN  \n",
       "2021-01-10 13:41:56-05:00                    NaN       NaN     NaN  \n",
       "\n",
       "[9601 rows x 14 columns]"
      ],
      "text/html": "<div>\n<style scoped>\n    .dataframe tbody tr th:only-of-type {\n        vertical-align: middle;\n    }\n\n    .dataframe tbody tr th {\n        vertical-align: top;\n    }\n\n    .dataframe thead th {\n        text-align: right;\n    }\n</style>\n<table border=\"1\" class=\"dataframe\">\n  <thead>\n    <tr style=\"text-align: right;\">\n      <th></th>\n      <th>location</th>\n      <th>dt</th>\n      <th>temp_basement</th>\n      <th>Sys Out Temp.</th>\n      <th>filename</th>\n      <th>stove_exhaust_temp</th>\n      <th>Coil Power</th>\n      <th>motion</th>\n      <th>temperature</th>\n      <th>humidity</th>\n      <th>PPD</th>\n      <th>Indoor Temp. Setpoint</th>\n      <th>MA Temp.</th>\n      <th>Htg SP</th>\n    </tr>\n  </thead>\n  <tbody>\n    <tr>\n      <th>2020-12-07 12:29:07-05:00</th>\n      <td>house.basement.stove</td>\n      <td>2020-12-07 12:29:07-05:00</td>\n      <td>NaN</td>\n      <td>NaN</td>\n      <td>thermostat-20201210-022225</td>\n      <td>19.0000</td>\n      <td>0.000000</td>\n      <td>NaN</td>\n      <td>NaN</td>\n      <td>NaN</td>\n      <td>NaN</td>\n      <td>NaN</td>\n      <td>NaN</td>\n      <td>NaN</td>\n    </tr>\n    <tr>\n      <th>2020-12-07 12:29:38-05:00</th>\n      <td>house.basement.stove</td>\n      <td>2020-12-07 12:29:38-05:00</td>\n      <td>NaN</td>\n      <td>NaN</td>\n      <td>thermostat-20201210-021324</td>\n      <td>19.7500</td>\n      <td>0.000000</td>\n      <td>NaN</td>\n      <td>NaN</td>\n      <td>NaN</td>\n      <td>NaN</td>\n      <td>NaN</td>\n      <td>NaN</td>\n      <td>NaN</td>\n    </tr>\n    <tr>\n      <th>2020-12-07 12:30:09-05:00</th>\n      <td>house.basement.stove</td>\n      <td>2020-12-07 12:30:09-05:00</td>\n      <td>NaN</td>\n      <td>NaN</td>\n      <td>thermostat-20201210-021859</td>\n      <td>19.8750</td>\n      <td>0.000000</td>\n      <td>NaN</td>\n      <td>NaN</td>\n      <td>NaN</td>\n      <td>NaN</td>\n      <td>NaN</td>\n      <td>NaN</td>\n      <td>NaN</td>\n    </tr>\n    <tr>\n      <th>2020-12-07 12:31:42-05:00</th>\n      <td>house.basement.stove</td>\n      <td>2020-12-07 12:31:42-05:00</td>\n      <td>NaN</td>\n      <td>NaN</td>\n      <td>thermostat-20201210-021653</td>\n      <td>19.7500</td>\n      <td>0.000000</td>\n      <td>NaN</td>\n      <td>NaN</td>\n      <td>NaN</td>\n      <td>NaN</td>\n      <td>NaN</td>\n      <td>NaN</td>\n      <td>NaN</td>\n    </tr>\n    <tr>\n      <th>2020-12-07 12:33:48-05:00</th>\n      <td>house.basement.stove</td>\n      <td>2020-12-07 12:33:48-05:00</td>\n      <td>NaN</td>\n      <td>NaN</td>\n      <td>thermostat-20201210-022039</td>\n      <td>19.7500</td>\n      <td>0.000000</td>\n      <td>NaN</td>\n      <td>NaN</td>\n      <td>NaN</td>\n      <td>NaN</td>\n      <td>NaN</td>\n      <td>NaN</td>\n      <td>NaN</td>\n    </tr>\n    <tr>\n      <th>...</th>\n      <td>...</td>\n      <td>...</td>\n      <td>...</td>\n      <td>...</td>\n      <td>...</td>\n      <td>...</td>\n      <td>...</td>\n      <td>...</td>\n      <td>...</td>\n      <td>...</td>\n      <td>...</td>\n      <td>...</td>\n      <td>...</td>\n      <td>...</td>\n    </tr>\n    <tr>\n      <th>2021-01-10 13:21:53-05:00</th>\n      <td>house.basement.stove</td>\n      <td>2021-01-10 13:21:53-05:00</td>\n      <td>NaN</td>\n      <td>NaN</td>\n      <td>thermostat-20210110-132153</td>\n      <td>19.6250</td>\n      <td>0.000000</td>\n      <td>NaN</td>\n      <td>NaN</td>\n      <td>NaN</td>\n      <td>NaN</td>\n      <td>NaN</td>\n      <td>NaN</td>\n      <td>NaN</td>\n    </tr>\n    <tr>\n      <th>2021-01-10 13:26:54-05:00</th>\n      <td>house.basement.stove</td>\n      <td>2021-01-10 13:26:54-05:00</td>\n      <td>NaN</td>\n      <td>NaN</td>\n      <td>thermostat-20210110-132654</td>\n      <td>21.1875</td>\n      <td>0.000000</td>\n      <td>NaN</td>\n      <td>NaN</td>\n      <td>NaN</td>\n      <td>NaN</td>\n      <td>NaN</td>\n      <td>NaN</td>\n      <td>NaN</td>\n    </tr>\n    <tr>\n      <th>2021-01-10 13:31:54-05:00</th>\n      <td>house.basement.stove</td>\n      <td>2021-01-10 13:31:54-05:00</td>\n      <td>NaN</td>\n      <td>NaN</td>\n      <td>thermostat-20210110-133155</td>\n      <td>73.8125</td>\n      <td>6026.474631</td>\n      <td>NaN</td>\n      <td>NaN</td>\n      <td>NaN</td>\n      <td>NaN</td>\n      <td>NaN</td>\n      <td>NaN</td>\n      <td>NaN</td>\n    </tr>\n    <tr>\n      <th>2021-01-10 13:36:55-05:00</th>\n      <td>house.basement.stove</td>\n      <td>2021-01-10 13:36:55-05:00</td>\n      <td>NaN</td>\n      <td>NaN</td>\n      <td>thermostat-20210110-133655</td>\n      <td>119.2500</td>\n      <td>9736.251986</td>\n      <td>NaN</td>\n      <td>NaN</td>\n      <td>NaN</td>\n      <td>NaN</td>\n      <td>NaN</td>\n      <td>NaN</td>\n      <td>NaN</td>\n    </tr>\n    <tr>\n      <th>2021-01-10 13:41:56-05:00</th>\n      <td>house.basement.stove</td>\n      <td>2021-01-10 13:41:56-05:00</td>\n      <td>NaN</td>\n      <td>NaN</td>\n      <td>thermostat-20210110-134156</td>\n      <td>111.1875</td>\n      <td>9077.983377</td>\n      <td>NaN</td>\n      <td>NaN</td>\n      <td>NaN</td>\n      <td>NaN</td>\n      <td>NaN</td>\n      <td>NaN</td>\n      <td>NaN</td>\n    </tr>\n  </tbody>\n</table>\n<p>9601 rows × 14 columns</p>\n</div>"
     },
     "metadata": {},
     "execution_count": 11
    }
   ],
   "source": [
    "t = thermostat_metric_data[thermostat_metric_data['location']=='house.basement.stove'].copy(deep=True)\n",
    "t"
   ]
  },
  {
   "cell_type": "code",
   "execution_count": null,
   "metadata": {},
   "outputs": [],
   "source": []
  }
 ]
}