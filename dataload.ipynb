{
 "metadata": {
  "language_info": {
   "codemirror_mode": {
    "name": "ipython",
    "version": 3
   },
   "file_extension": ".py",
   "mimetype": "text/x-python",
   "name": "python",
   "nbconvert_exporter": "python",
   "pygments_lexer": "ipython3",
   "version": "3.8.6-final"
  },
  "orig_nbformat": 2,
  "kernelspec": {
   "name": "python3",
   "display_name": "Python 3",
   "language": "python"
  }
 },
 "nbformat": 4,
 "nbformat_minor": 2,
 "cells": [
  {
   "cell_type": "code",
   "execution_count": 1,
   "metadata": {},
   "outputs": [],
   "source": [
    "import os\n",
    "os.environ[\"GOOGLE_APPLICATION_CREDENTIALS\"] = \"C:\\\\Users\\\\T834432\\\\Documents\\\\personnel\\\\thermostat\\\\thermostat-agent\\\\thermostat-292016-05700c0efdbe__.json\"\n",
    "os.environ[\"PROJECT_ID\"] = \"thermostat-292016\"\n",
    "os.environ[\"ACTION_THRESHOLD\"] = \"1.0\"\n",
    "\n",
    "from google.cloud import storage\n",
    "#from thermostat import get_metric_list_from_bucket, bucket_name, storage_client\n",
    "from yadt import parse_date, apply_tz_toronto\n",
    "from datetime import datetime, timedelta\n",
    "import pandas as pd\n",
    "import json\n",
    "import pickle\n",
    "import numpy as np\n",
    "\n",
    "# Instantiates a client\n",
    "storage_client = storage.Client()\n",
    "# The name for the new bucket\n",
    "bucket = storage_client.bucket(\"thermostat_metric_data\")\n"
   ]
  },
  {
   "cell_type": "code",
   "execution_count": 2,
   "metadata": {},
   "outputs": [
    {
     "output_type": "execute_result",
     "data": {
      "text/plain": [
       "                                       location  stove_exhaust_temp  \\\n",
       "2020-12-04 08:39:19-05:00         house.kitchen                 NaN   \n",
       "2020-12-04 08:39:50-05:00         house.kitchen              0.0000   \n",
       "2020-12-04 08:43:36-05:00         house.kitchen              0.0000   \n",
       "2020-12-04 08:44:17-05:00         house.kitchen                 NaN   \n",
       "2020-12-04 08:44:30-05:00         house.kitchen                 NaN   \n",
       "...                                         ...                 ...   \n",
       "2021-01-09 07:34:14-05:00         house.kitchen                 NaN   \n",
       "2021-01-09 07:37:56-05:00  house.basement.stove             17.8125   \n",
       "2021-01-09 07:39:14-05:00         house.kitchen                 NaN   \n",
       "2021-01-09 07:42:57-05:00  house.basement.stove             17.8125   \n",
       "2021-01-09 07:44:15-05:00         house.kitchen                 NaN   \n",
       "\n",
       "                                                 dt  Coil Power  \\\n",
       "2020-12-04 08:39:19-05:00 2020-12-04 08:39:19-05:00         NaN   \n",
       "2020-12-04 08:39:50-05:00 2020-12-04 08:39:50-05:00         NaN   \n",
       "2020-12-04 08:43:36-05:00 2020-12-04 08:43:36-05:00         NaN   \n",
       "2020-12-04 08:44:17-05:00 2020-12-04 08:44:17-05:00         NaN   \n",
       "2020-12-04 08:44:30-05:00 2020-12-04 08:44:30-05:00         NaN   \n",
       "...                                             ...         ...   \n",
       "2021-01-09 07:34:14-05:00 2021-01-09 07:34:14-05:00         NaN   \n",
       "2021-01-09 07:37:56-05:00 2021-01-09 07:37:56-05:00         0.0   \n",
       "2021-01-09 07:39:14-05:00 2021-01-09 07:39:14-05:00         NaN   \n",
       "2021-01-09 07:42:57-05:00 2021-01-09 07:42:57-05:00         0.0   \n",
       "2021-01-09 07:44:15-05:00 2021-01-09 07:44:15-05:00         NaN   \n",
       "\n",
       "                                             filename motion  temperature  \\\n",
       "2020-12-04 08:39:19-05:00  thermostat-20201210-020913   True          NaN   \n",
       "2020-12-04 08:39:50-05:00  thermostat-20201210-020817   True     21.62470   \n",
       "2020-12-04 08:43:36-05:00  thermostat-20201210-021017  False     21.79293   \n",
       "2020-12-04 08:44:17-05:00  thermostat-20201210-020819  False     21.80896   \n",
       "2020-12-04 08:44:30-05:00  thermostat-20201210-021224   True     21.80896   \n",
       "...                                               ...    ...          ...   \n",
       "2021-01-09 07:34:14-05:00  thermostat-20210109-123414  False     18.76211   \n",
       "2021-01-09 07:37:56-05:00  thermostat-20210109-123757    NaN          NaN   \n",
       "2021-01-09 07:39:14-05:00  thermostat-20210109-123914  False     18.73274   \n",
       "2021-01-09 07:42:57-05:00  thermostat-20210109-124258    NaN          NaN   \n",
       "2021-01-09 07:44:15-05:00  thermostat-20210109-124415  False     18.77546   \n",
       "\n",
       "                           humidity   PPD  Indoor Temp. Setpoint  MA Temp.  \\\n",
       "2020-12-04 08:39:19-05:00       NaN   NaN                    NaN       NaN   \n",
       "2020-12-04 08:39:50-05:00  49.51858  24.8                   22.0      18.0   \n",
       "2020-12-04 08:43:36-05:00  49.42245  22.8                   22.0      18.0   \n",
       "2020-12-04 08:44:17-05:00  49.63913  22.5                   22.0      18.0   \n",
       "2020-12-04 08:44:30-05:00  48.63661  22.8                   22.0      18.0   \n",
       "...                             ...   ...                    ...       ...   \n",
       "2021-01-09 07:34:14-05:00  42.97246  72.6                   22.0      18.0   \n",
       "2021-01-09 07:37:56-05:00       NaN   NaN                    NaN       NaN   \n",
       "2021-01-09 07:39:14-05:00  42.96941  73.1                   22.0      18.0   \n",
       "2021-01-09 07:42:57-05:00       NaN   NaN                    NaN       NaN   \n",
       "2021-01-09 07:44:15-05:00  42.92821  72.4                   22.0      18.0   \n",
       "\n",
       "                           Htg SP  \n",
       "2020-12-04 08:39:19-05:00     NaN  \n",
       "2020-12-04 08:39:50-05:00    22.0  \n",
       "2020-12-04 08:43:36-05:00    22.0  \n",
       "2020-12-04 08:44:17-05:00    22.0  \n",
       "2020-12-04 08:44:30-05:00    22.0  \n",
       "...                           ...  \n",
       "2021-01-09 07:34:14-05:00    22.0  \n",
       "2021-01-09 07:37:56-05:00     NaN  \n",
       "2021-01-09 07:39:14-05:00    22.0  \n",
       "2021-01-09 07:42:57-05:00     NaN  \n",
       "2021-01-09 07:44:15-05:00    22.0  \n",
       "\n",
       "[115510 rows x 12 columns]"
      ],
      "text/html": "<div>\n<style scoped>\n    .dataframe tbody tr th:only-of-type {\n        vertical-align: middle;\n    }\n\n    .dataframe tbody tr th {\n        vertical-align: top;\n    }\n\n    .dataframe thead th {\n        text-align: right;\n    }\n</style>\n<table border=\"1\" class=\"dataframe\">\n  <thead>\n    <tr style=\"text-align: right;\">\n      <th></th>\n      <th>location</th>\n      <th>stove_exhaust_temp</th>\n      <th>dt</th>\n      <th>Coil Power</th>\n      <th>filename</th>\n      <th>motion</th>\n      <th>temperature</th>\n      <th>humidity</th>\n      <th>PPD</th>\n      <th>Indoor Temp. Setpoint</th>\n      <th>MA Temp.</th>\n      <th>Htg SP</th>\n    </tr>\n  </thead>\n  <tbody>\n    <tr>\n      <th>2020-12-04 08:39:19-05:00</th>\n      <td>house.kitchen</td>\n      <td>NaN</td>\n      <td>2020-12-04 08:39:19-05:00</td>\n      <td>NaN</td>\n      <td>thermostat-20201210-020913</td>\n      <td>True</td>\n      <td>NaN</td>\n      <td>NaN</td>\n      <td>NaN</td>\n      <td>NaN</td>\n      <td>NaN</td>\n      <td>NaN</td>\n    </tr>\n    <tr>\n      <th>2020-12-04 08:39:50-05:00</th>\n      <td>house.kitchen</td>\n      <td>0.0000</td>\n      <td>2020-12-04 08:39:50-05:00</td>\n      <td>NaN</td>\n      <td>thermostat-20201210-020817</td>\n      <td>True</td>\n      <td>21.62470</td>\n      <td>49.51858</td>\n      <td>24.8</td>\n      <td>22.0</td>\n      <td>18.0</td>\n      <td>22.0</td>\n    </tr>\n    <tr>\n      <th>2020-12-04 08:43:36-05:00</th>\n      <td>house.kitchen</td>\n      <td>0.0000</td>\n      <td>2020-12-04 08:43:36-05:00</td>\n      <td>NaN</td>\n      <td>thermostat-20201210-021017</td>\n      <td>False</td>\n      <td>21.79293</td>\n      <td>49.42245</td>\n      <td>22.8</td>\n      <td>22.0</td>\n      <td>18.0</td>\n      <td>22.0</td>\n    </tr>\n    <tr>\n      <th>2020-12-04 08:44:17-05:00</th>\n      <td>house.kitchen</td>\n      <td>NaN</td>\n      <td>2020-12-04 08:44:17-05:00</td>\n      <td>NaN</td>\n      <td>thermostat-20201210-020819</td>\n      <td>False</td>\n      <td>21.80896</td>\n      <td>49.63913</td>\n      <td>22.5</td>\n      <td>22.0</td>\n      <td>18.0</td>\n      <td>22.0</td>\n    </tr>\n    <tr>\n      <th>2020-12-04 08:44:30-05:00</th>\n      <td>house.kitchen</td>\n      <td>NaN</td>\n      <td>2020-12-04 08:44:30-05:00</td>\n      <td>NaN</td>\n      <td>thermostat-20201210-021224</td>\n      <td>True</td>\n      <td>21.80896</td>\n      <td>48.63661</td>\n      <td>22.8</td>\n      <td>22.0</td>\n      <td>18.0</td>\n      <td>22.0</td>\n    </tr>\n    <tr>\n      <th>...</th>\n      <td>...</td>\n      <td>...</td>\n      <td>...</td>\n      <td>...</td>\n      <td>...</td>\n      <td>...</td>\n      <td>...</td>\n      <td>...</td>\n      <td>...</td>\n      <td>...</td>\n      <td>...</td>\n      <td>...</td>\n    </tr>\n    <tr>\n      <th>2021-01-09 07:34:14-05:00</th>\n      <td>house.kitchen</td>\n      <td>NaN</td>\n      <td>2021-01-09 07:34:14-05:00</td>\n      <td>NaN</td>\n      <td>thermostat-20210109-123414</td>\n      <td>False</td>\n      <td>18.76211</td>\n      <td>42.97246</td>\n      <td>72.6</td>\n      <td>22.0</td>\n      <td>18.0</td>\n      <td>22.0</td>\n    </tr>\n    <tr>\n      <th>2021-01-09 07:37:56-05:00</th>\n      <td>house.basement.stove</td>\n      <td>17.8125</td>\n      <td>2021-01-09 07:37:56-05:00</td>\n      <td>0.0</td>\n      <td>thermostat-20210109-123757</td>\n      <td>NaN</td>\n      <td>NaN</td>\n      <td>NaN</td>\n      <td>NaN</td>\n      <td>NaN</td>\n      <td>NaN</td>\n      <td>NaN</td>\n    </tr>\n    <tr>\n      <th>2021-01-09 07:39:14-05:00</th>\n      <td>house.kitchen</td>\n      <td>NaN</td>\n      <td>2021-01-09 07:39:14-05:00</td>\n      <td>NaN</td>\n      <td>thermostat-20210109-123914</td>\n      <td>False</td>\n      <td>18.73274</td>\n      <td>42.96941</td>\n      <td>73.1</td>\n      <td>22.0</td>\n      <td>18.0</td>\n      <td>22.0</td>\n    </tr>\n    <tr>\n      <th>2021-01-09 07:42:57-05:00</th>\n      <td>house.basement.stove</td>\n      <td>17.8125</td>\n      <td>2021-01-09 07:42:57-05:00</td>\n      <td>0.0</td>\n      <td>thermostat-20210109-124258</td>\n      <td>NaN</td>\n      <td>NaN</td>\n      <td>NaN</td>\n      <td>NaN</td>\n      <td>NaN</td>\n      <td>NaN</td>\n      <td>NaN</td>\n    </tr>\n    <tr>\n      <th>2021-01-09 07:44:15-05:00</th>\n      <td>house.kitchen</td>\n      <td>NaN</td>\n      <td>2021-01-09 07:44:15-05:00</td>\n      <td>NaN</td>\n      <td>thermostat-20210109-124415</td>\n      <td>False</td>\n      <td>18.77546</td>\n      <td>42.92821</td>\n      <td>72.4</td>\n      <td>22.0</td>\n      <td>18.0</td>\n      <td>22.0</td>\n    </tr>\n  </tbody>\n</table>\n<p>115510 rows × 12 columns</p>\n</div>"
     },
     "metadata": {},
     "execution_count": 2
    }
   ],
   "source": [
    "b = bucket.get_blob('_thermostat_metric_data.p')\n",
    "\n",
    "pickle_load = b.download_as_bytes()\n",
    "thermostat_metric_data = pickle.loads(pickle_load)\n",
    "thermostat_metric_data.sort_index(inplace=True)\n",
    "#thermostat_metric_data['hash'] = pd.util.hash_pandas_object(thermostat_metric_data)\n",
    "#thermostat_metric_data = thermostat_metric_data[~thermostat_metric_data.duplicated(keep='first')]\n",
    "thermostat_metric_data"
   ]
  },
  {
   "cell_type": "code",
   "execution_count": 3,
   "metadata": {
    "tags": []
   },
   "outputs": [
    {
     "output_type": "stream",
     "name": "stderr",
     "text": [
      "100%|██████████| 2003/2003 [06:22<00:00,  5.23it/s]\n"
     ]
    },
    {
     "output_type": "execute_result",
     "data": {
      "text/plain": [
       "                                location  stove_exhaust_temp  \\\n",
       "2020-12-04 08:39:19-05:00  house.kitchen                 NaN   \n",
       "2020-12-04 08:39:50-05:00  house.kitchen                 0.0   \n",
       "2020-12-04 08:43:36-05:00  house.kitchen                 0.0   \n",
       "2020-12-04 08:44:17-05:00  house.kitchen                 NaN   \n",
       "2020-12-04 08:44:30-05:00  house.kitchen                 NaN   \n",
       "...                                  ...                 ...   \n",
       "2021-01-09 12:25:39-05:00  house.kitchen                 NaN   \n",
       "2021-01-09 12:25:43-05:00  house.kitchen                 NaN   \n",
       "2021-01-09 12:25:44-05:00  house.kitchen                 NaN   \n",
       "2021-01-09 12:26:39-05:00  house.kitchen                 NaN   \n",
       "2021-01-09 12:26:41-05:00  house.kitchen                 NaN   \n",
       "\n",
       "                                                 dt  Coil Power  \\\n",
       "2020-12-04 08:39:19-05:00 2020-12-04 08:39:19-05:00         NaN   \n",
       "2020-12-04 08:39:50-05:00 2020-12-04 08:39:50-05:00         NaN   \n",
       "2020-12-04 08:43:36-05:00 2020-12-04 08:43:36-05:00         NaN   \n",
       "2020-12-04 08:44:17-05:00 2020-12-04 08:44:17-05:00         NaN   \n",
       "2020-12-04 08:44:30-05:00 2020-12-04 08:44:30-05:00         NaN   \n",
       "...                                             ...         ...   \n",
       "2021-01-09 12:25:39-05:00 2021-01-09 12:25:39-05:00         NaN   \n",
       "2021-01-09 12:25:43-05:00 2021-01-09 12:25:43-05:00         NaN   \n",
       "2021-01-09 12:25:44-05:00 2021-01-09 12:25:44-05:00         NaN   \n",
       "2021-01-09 12:26:39-05:00 2021-01-09 12:26:39-05:00         NaN   \n",
       "2021-01-09 12:26:41-05:00 2021-01-09 12:26:41-05:00         NaN   \n",
       "\n",
       "                                             filename motion  temperature  \\\n",
       "2020-12-04 08:39:19-05:00  thermostat-20201210-020913   True          NaN   \n",
       "2020-12-04 08:39:50-05:00  thermostat-20201210-020817   True     21.62470   \n",
       "2020-12-04 08:43:36-05:00  thermostat-20201210-021017  False     21.79293   \n",
       "2020-12-04 08:44:17-05:00  thermostat-20201210-020819  False     21.80896   \n",
       "2020-12-04 08:44:30-05:00  thermostat-20201210-021224   True     21.80896   \n",
       "...                                               ...    ...          ...   \n",
       "2021-01-09 12:25:39-05:00  thermostat-20210109-172539  False     21.01587   \n",
       "2021-01-09 12:25:43-05:00  thermostat-20210109-172543   True     20.99985   \n",
       "2021-01-09 12:25:44-05:00  thermostat-20210109-172544  False     21.02922   \n",
       "2021-01-09 12:26:39-05:00  thermostat-20210109-172640   True     20.98650   \n",
       "2021-01-09 12:26:41-05:00  thermostat-20210109-172641  False     20.98650   \n",
       "\n",
       "                           humidity   PPD  Indoor Temp. Setpoint  MA Temp.  \\\n",
       "2020-12-04 08:39:19-05:00       NaN   NaN                    NaN       NaN   \n",
       "2020-12-04 08:39:50-05:00  49.51858  24.8                   22.0      18.0   \n",
       "2020-12-04 08:43:36-05:00  49.42245  22.8                   22.0      18.0   \n",
       "2020-12-04 08:44:17-05:00  49.63913  22.5                   22.0      18.0   \n",
       "2020-12-04 08:44:30-05:00  48.63661  22.8                   22.0      18.0   \n",
       "...                             ...   ...                    ...       ...   \n",
       "2021-01-09 12:25:39-05:00  47.35332  33.8                   22.0      18.0   \n",
       "2021-01-09 12:25:43-05:00  47.25414  34.1                   22.0      18.0   \n",
       "2021-01-09 12:25:44-05:00  47.15191  33.7                   22.0      18.0   \n",
       "2021-01-09 12:26:39-05:00  47.22972  34.3                   22.0      18.0   \n",
       "2021-01-09 12:26:41-05:00  47.21752  34.3                   22.0      18.0   \n",
       "\n",
       "                           Htg SP  \n",
       "2020-12-04 08:39:19-05:00     NaN  \n",
       "2020-12-04 08:39:50-05:00    22.0  \n",
       "2020-12-04 08:43:36-05:00    22.0  \n",
       "2020-12-04 08:44:17-05:00    22.0  \n",
       "2020-12-04 08:44:30-05:00    22.0  \n",
       "...                           ...  \n",
       "2021-01-09 12:25:39-05:00    22.0  \n",
       "2021-01-09 12:25:43-05:00    22.0  \n",
       "2021-01-09 12:25:44-05:00    22.0  \n",
       "2021-01-09 12:26:39-05:00    22.0  \n",
       "2021-01-09 12:26:41-05:00    22.0  \n",
       "\n",
       "[116993 rows x 12 columns]"
      ],
      "text/html": "<div>\n<style scoped>\n    .dataframe tbody tr th:only-of-type {\n        vertical-align: middle;\n    }\n\n    .dataframe tbody tr th {\n        vertical-align: top;\n    }\n\n    .dataframe thead th {\n        text-align: right;\n    }\n</style>\n<table border=\"1\" class=\"dataframe\">\n  <thead>\n    <tr style=\"text-align: right;\">\n      <th></th>\n      <th>location</th>\n      <th>stove_exhaust_temp</th>\n      <th>dt</th>\n      <th>Coil Power</th>\n      <th>filename</th>\n      <th>motion</th>\n      <th>temperature</th>\n      <th>humidity</th>\n      <th>PPD</th>\n      <th>Indoor Temp. Setpoint</th>\n      <th>MA Temp.</th>\n      <th>Htg SP</th>\n    </tr>\n  </thead>\n  <tbody>\n    <tr>\n      <th>2020-12-04 08:39:19-05:00</th>\n      <td>house.kitchen</td>\n      <td>NaN</td>\n      <td>2020-12-04 08:39:19-05:00</td>\n      <td>NaN</td>\n      <td>thermostat-20201210-020913</td>\n      <td>True</td>\n      <td>NaN</td>\n      <td>NaN</td>\n      <td>NaN</td>\n      <td>NaN</td>\n      <td>NaN</td>\n      <td>NaN</td>\n    </tr>\n    <tr>\n      <th>2020-12-04 08:39:50-05:00</th>\n      <td>house.kitchen</td>\n      <td>0.0</td>\n      <td>2020-12-04 08:39:50-05:00</td>\n      <td>NaN</td>\n      <td>thermostat-20201210-020817</td>\n      <td>True</td>\n      <td>21.62470</td>\n      <td>49.51858</td>\n      <td>24.8</td>\n      <td>22.0</td>\n      <td>18.0</td>\n      <td>22.0</td>\n    </tr>\n    <tr>\n      <th>2020-12-04 08:43:36-05:00</th>\n      <td>house.kitchen</td>\n      <td>0.0</td>\n      <td>2020-12-04 08:43:36-05:00</td>\n      <td>NaN</td>\n      <td>thermostat-20201210-021017</td>\n      <td>False</td>\n      <td>21.79293</td>\n      <td>49.42245</td>\n      <td>22.8</td>\n      <td>22.0</td>\n      <td>18.0</td>\n      <td>22.0</td>\n    </tr>\n    <tr>\n      <th>2020-12-04 08:44:17-05:00</th>\n      <td>house.kitchen</td>\n      <td>NaN</td>\n      <td>2020-12-04 08:44:17-05:00</td>\n      <td>NaN</td>\n      <td>thermostat-20201210-020819</td>\n      <td>False</td>\n      <td>21.80896</td>\n      <td>49.63913</td>\n      <td>22.5</td>\n      <td>22.0</td>\n      <td>18.0</td>\n      <td>22.0</td>\n    </tr>\n    <tr>\n      <th>2020-12-04 08:44:30-05:00</th>\n      <td>house.kitchen</td>\n      <td>NaN</td>\n      <td>2020-12-04 08:44:30-05:00</td>\n      <td>NaN</td>\n      <td>thermostat-20201210-021224</td>\n      <td>True</td>\n      <td>21.80896</td>\n      <td>48.63661</td>\n      <td>22.8</td>\n      <td>22.0</td>\n      <td>18.0</td>\n      <td>22.0</td>\n    </tr>\n    <tr>\n      <th>...</th>\n      <td>...</td>\n      <td>...</td>\n      <td>...</td>\n      <td>...</td>\n      <td>...</td>\n      <td>...</td>\n      <td>...</td>\n      <td>...</td>\n      <td>...</td>\n      <td>...</td>\n      <td>...</td>\n      <td>...</td>\n    </tr>\n    <tr>\n      <th>2021-01-09 12:25:39-05:00</th>\n      <td>house.kitchen</td>\n      <td>NaN</td>\n      <td>2021-01-09 12:25:39-05:00</td>\n      <td>NaN</td>\n      <td>thermostat-20210109-172539</td>\n      <td>False</td>\n      <td>21.01587</td>\n      <td>47.35332</td>\n      <td>33.8</td>\n      <td>22.0</td>\n      <td>18.0</td>\n      <td>22.0</td>\n    </tr>\n    <tr>\n      <th>2021-01-09 12:25:43-05:00</th>\n      <td>house.kitchen</td>\n      <td>NaN</td>\n      <td>2021-01-09 12:25:43-05:00</td>\n      <td>NaN</td>\n      <td>thermostat-20210109-172543</td>\n      <td>True</td>\n      <td>20.99985</td>\n      <td>47.25414</td>\n      <td>34.1</td>\n      <td>22.0</td>\n      <td>18.0</td>\n      <td>22.0</td>\n    </tr>\n    <tr>\n      <th>2021-01-09 12:25:44-05:00</th>\n      <td>house.kitchen</td>\n      <td>NaN</td>\n      <td>2021-01-09 12:25:44-05:00</td>\n      <td>NaN</td>\n      <td>thermostat-20210109-172544</td>\n      <td>False</td>\n      <td>21.02922</td>\n      <td>47.15191</td>\n      <td>33.7</td>\n      <td>22.0</td>\n      <td>18.0</td>\n      <td>22.0</td>\n    </tr>\n    <tr>\n      <th>2021-01-09 12:26:39-05:00</th>\n      <td>house.kitchen</td>\n      <td>NaN</td>\n      <td>2021-01-09 12:26:39-05:00</td>\n      <td>NaN</td>\n      <td>thermostat-20210109-172640</td>\n      <td>True</td>\n      <td>20.98650</td>\n      <td>47.22972</td>\n      <td>34.3</td>\n      <td>22.0</td>\n      <td>18.0</td>\n      <td>22.0</td>\n    </tr>\n    <tr>\n      <th>2021-01-09 12:26:41-05:00</th>\n      <td>house.kitchen</td>\n      <td>NaN</td>\n      <td>2021-01-09 12:26:41-05:00</td>\n      <td>NaN</td>\n      <td>thermostat-20210109-172641</td>\n      <td>False</td>\n      <td>20.98650</td>\n      <td>47.21752</td>\n      <td>34.3</td>\n      <td>22.0</td>\n      <td>18.0</td>\n      <td>22.0</td>\n    </tr>\n  </tbody>\n</table>\n<p>116993 rows × 12 columns</p>\n</div>"
     },
     "metadata": {},
     "execution_count": 3
    }
   ],
   "source": [
    "import pandas as pd\n",
    "from yadt import scan_and_apply_tz\n",
    "import json\n",
    "from datetime import datetime\n",
    "from thermostat_aggregation_utils import aggregate_to_dataframe, metric_str_to_json\n",
    "\n",
    "from tqdm import tqdm\n",
    "\n",
    "from os import listdir\n",
    "from os.path import isfile, join\n",
    "\n",
    "\n",
    "#onlyfiles = [f for f in listdir('dump') if isfile(join('dump', f))]\n",
    "#onlyfiles.reverse()\n",
    "onlyfiles = [f for f in listdir('dump') if isfile(join('dump', f)) and (f.startswith('thermostat-20210109') or f.startswith('environment-sensor_basement-20210109'))]\n",
    "#print(f\"Files to process : {len(onlyfiles)}\")\n",
    "\n",
    "#thermostat_metric_data = pd.DataFrame()\n",
    "exist = 0\n",
    "processed = 0\n",
    "for f in tqdm(onlyfiles):\n",
    "\n",
    "    with open('dump/'+f, 'r') as file:\n",
    "        data = file.read().replace('\\n', '')\n",
    "        #print(f)\n",
    "        try:\n",
    "            last_json = metric_str_to_json(data)\n",
    "            \n",
    "            merge, thermostat_metric_data = aggregate_to_dataframe(f,last_json, thermostat_metric_data)\n",
    "\n",
    "\n",
    "            if merge:\n",
    "                #print(f\"Import {f}\")\n",
    "                processed = processed + 1\n",
    "            else:\n",
    "                #print(f\"PASS - {f}\")\n",
    "                exist = exist+1\n",
    "            \n",
    "            #if exist > 200:\n",
    "                #break\n",
    "            \n",
    "        except Exception as e:\n",
    "            raise e\n",
    "            #else:\n",
    "            #    pass\n",
    "            #print(data)\n",
    "\n",
    "thermostat_metric_data\n",
    "        "
   ]
  },
  {
   "cell_type": "code",
   "execution_count": 4,
   "metadata": {},
   "outputs": [
    {
     "output_type": "stream",
     "name": "stderr",
     "text": [
      "c:\\Users\\T834432\\Documents\\personnel\\thermostat\\thermostat-agent\\.venv\\lib\\site-packages\\ipykernel\\ipkernel.py:287: DeprecationWarning: `should_run_async` will not call `transform_cell` automatically in the future. Please pass the result to `transformed_cell` argument and any exception that happen during thetransform in `preprocessing_exc_tuple` in IPython 7.17 and above.\n  and should_run_async(code)\n"
     ]
    },
    {
     "output_type": "execute_result",
     "data": {
      "text/plain": [
       "                                location  stove_exhaust_temp  \\\n",
       "2020-12-04 08:39:19-05:00  house.kitchen                 NaN   \n",
       "2020-12-04 08:39:50-05:00  house.kitchen                 0.0   \n",
       "2020-12-04 08:43:36-05:00  house.kitchen                 0.0   \n",
       "2020-12-04 08:44:17-05:00  house.kitchen                 NaN   \n",
       "2020-12-04 08:44:30-05:00  house.kitchen                 NaN   \n",
       "...                                  ...                 ...   \n",
       "2021-01-09 12:25:39-05:00  house.kitchen                 NaN   \n",
       "2021-01-09 12:25:43-05:00  house.kitchen                 NaN   \n",
       "2021-01-09 12:25:44-05:00  house.kitchen                 NaN   \n",
       "2021-01-09 12:26:39-05:00  house.kitchen                 NaN   \n",
       "2021-01-09 12:26:41-05:00  house.kitchen                 NaN   \n",
       "\n",
       "                                                 dt  Coil Power  \\\n",
       "2020-12-04 08:39:19-05:00 2020-12-04 08:39:19-05:00         NaN   \n",
       "2020-12-04 08:39:50-05:00 2020-12-04 08:39:50-05:00         NaN   \n",
       "2020-12-04 08:43:36-05:00 2020-12-04 08:43:36-05:00         NaN   \n",
       "2020-12-04 08:44:17-05:00 2020-12-04 08:44:17-05:00         NaN   \n",
       "2020-12-04 08:44:30-05:00 2020-12-04 08:44:30-05:00         NaN   \n",
       "...                                             ...         ...   \n",
       "2021-01-09 12:25:39-05:00 2021-01-09 12:25:39-05:00         NaN   \n",
       "2021-01-09 12:25:43-05:00 2021-01-09 12:25:43-05:00         NaN   \n",
       "2021-01-09 12:25:44-05:00 2021-01-09 12:25:44-05:00         NaN   \n",
       "2021-01-09 12:26:39-05:00 2021-01-09 12:26:39-05:00         NaN   \n",
       "2021-01-09 12:26:41-05:00 2021-01-09 12:26:41-05:00         NaN   \n",
       "\n",
       "                                             filename motion  temperature  \\\n",
       "2020-12-04 08:39:19-05:00  thermostat-20201210-020913   True          NaN   \n",
       "2020-12-04 08:39:50-05:00  thermostat-20201210-020817   True     21.62470   \n",
       "2020-12-04 08:43:36-05:00  thermostat-20201210-021017  False     21.79293   \n",
       "2020-12-04 08:44:17-05:00  thermostat-20201210-020819  False     21.80896   \n",
       "2020-12-04 08:44:30-05:00  thermostat-20201210-021224   True     21.80896   \n",
       "...                                               ...    ...          ...   \n",
       "2021-01-09 12:25:39-05:00  thermostat-20210109-172539  False     21.01587   \n",
       "2021-01-09 12:25:43-05:00  thermostat-20210109-172543   True     20.99985   \n",
       "2021-01-09 12:25:44-05:00  thermostat-20210109-172544  False     21.02922   \n",
       "2021-01-09 12:26:39-05:00  thermostat-20210109-172640   True     20.98650   \n",
       "2021-01-09 12:26:41-05:00  thermostat-20210109-172641  False     20.98650   \n",
       "\n",
       "                           humidity   PPD  Indoor Temp. Setpoint  MA Temp.  \\\n",
       "2020-12-04 08:39:19-05:00       NaN   NaN                    NaN       NaN   \n",
       "2020-12-04 08:39:50-05:00  49.51858  24.8                   22.0      18.0   \n",
       "2020-12-04 08:43:36-05:00  49.42245  22.8                   22.0      18.0   \n",
       "2020-12-04 08:44:17-05:00  49.63913  22.5                   22.0      18.0   \n",
       "2020-12-04 08:44:30-05:00  48.63661  22.8                   22.0      18.0   \n",
       "...                             ...   ...                    ...       ...   \n",
       "2021-01-09 12:25:39-05:00  47.35332  33.8                   22.0      18.0   \n",
       "2021-01-09 12:25:43-05:00  47.25414  34.1                   22.0      18.0   \n",
       "2021-01-09 12:25:44-05:00  47.15191  33.7                   22.0      18.0   \n",
       "2021-01-09 12:26:39-05:00  47.22972  34.3                   22.0      18.0   \n",
       "2021-01-09 12:26:41-05:00  47.21752  34.3                   22.0      18.0   \n",
       "\n",
       "                           Htg SP  \n",
       "2020-12-04 08:39:19-05:00     NaN  \n",
       "2020-12-04 08:39:50-05:00    22.0  \n",
       "2020-12-04 08:43:36-05:00    22.0  \n",
       "2020-12-04 08:44:17-05:00    22.0  \n",
       "2020-12-04 08:44:30-05:00    22.0  \n",
       "...                           ...  \n",
       "2021-01-09 12:25:39-05:00    22.0  \n",
       "2021-01-09 12:25:43-05:00    22.0  \n",
       "2021-01-09 12:25:44-05:00    22.0  \n",
       "2021-01-09 12:26:39-05:00    22.0  \n",
       "2021-01-09 12:26:41-05:00    22.0  \n",
       "\n",
       "[116993 rows x 12 columns]"
      ],
      "text/html": "<div>\n<style scoped>\n    .dataframe tbody tr th:only-of-type {\n        vertical-align: middle;\n    }\n\n    .dataframe tbody tr th {\n        vertical-align: top;\n    }\n\n    .dataframe thead th {\n        text-align: right;\n    }\n</style>\n<table border=\"1\" class=\"dataframe\">\n  <thead>\n    <tr style=\"text-align: right;\">\n      <th></th>\n      <th>location</th>\n      <th>stove_exhaust_temp</th>\n      <th>dt</th>\n      <th>Coil Power</th>\n      <th>filename</th>\n      <th>motion</th>\n      <th>temperature</th>\n      <th>humidity</th>\n      <th>PPD</th>\n      <th>Indoor Temp. Setpoint</th>\n      <th>MA Temp.</th>\n      <th>Htg SP</th>\n    </tr>\n  </thead>\n  <tbody>\n    <tr>\n      <th>2020-12-04 08:39:19-05:00</th>\n      <td>house.kitchen</td>\n      <td>NaN</td>\n      <td>2020-12-04 08:39:19-05:00</td>\n      <td>NaN</td>\n      <td>thermostat-20201210-020913</td>\n      <td>True</td>\n      <td>NaN</td>\n      <td>NaN</td>\n      <td>NaN</td>\n      <td>NaN</td>\n      <td>NaN</td>\n      <td>NaN</td>\n    </tr>\n    <tr>\n      <th>2020-12-04 08:39:50-05:00</th>\n      <td>house.kitchen</td>\n      <td>0.0</td>\n      <td>2020-12-04 08:39:50-05:00</td>\n      <td>NaN</td>\n      <td>thermostat-20201210-020817</td>\n      <td>True</td>\n      <td>21.62470</td>\n      <td>49.51858</td>\n      <td>24.8</td>\n      <td>22.0</td>\n      <td>18.0</td>\n      <td>22.0</td>\n    </tr>\n    <tr>\n      <th>2020-12-04 08:43:36-05:00</th>\n      <td>house.kitchen</td>\n      <td>0.0</td>\n      <td>2020-12-04 08:43:36-05:00</td>\n      <td>NaN</td>\n      <td>thermostat-20201210-021017</td>\n      <td>False</td>\n      <td>21.79293</td>\n      <td>49.42245</td>\n      <td>22.8</td>\n      <td>22.0</td>\n      <td>18.0</td>\n      <td>22.0</td>\n    </tr>\n    <tr>\n      <th>2020-12-04 08:44:17-05:00</th>\n      <td>house.kitchen</td>\n      <td>NaN</td>\n      <td>2020-12-04 08:44:17-05:00</td>\n      <td>NaN</td>\n      <td>thermostat-20201210-020819</td>\n      <td>False</td>\n      <td>21.80896</td>\n      <td>49.63913</td>\n      <td>22.5</td>\n      <td>22.0</td>\n      <td>18.0</td>\n      <td>22.0</td>\n    </tr>\n    <tr>\n      <th>2020-12-04 08:44:30-05:00</th>\n      <td>house.kitchen</td>\n      <td>NaN</td>\n      <td>2020-12-04 08:44:30-05:00</td>\n      <td>NaN</td>\n      <td>thermostat-20201210-021224</td>\n      <td>True</td>\n      <td>21.80896</td>\n      <td>48.63661</td>\n      <td>22.8</td>\n      <td>22.0</td>\n      <td>18.0</td>\n      <td>22.0</td>\n    </tr>\n    <tr>\n      <th>...</th>\n      <td>...</td>\n      <td>...</td>\n      <td>...</td>\n      <td>...</td>\n      <td>...</td>\n      <td>...</td>\n      <td>...</td>\n      <td>...</td>\n      <td>...</td>\n      <td>...</td>\n      <td>...</td>\n      <td>...</td>\n    </tr>\n    <tr>\n      <th>2021-01-09 12:25:39-05:00</th>\n      <td>house.kitchen</td>\n      <td>NaN</td>\n      <td>2021-01-09 12:25:39-05:00</td>\n      <td>NaN</td>\n      <td>thermostat-20210109-172539</td>\n      <td>False</td>\n      <td>21.01587</td>\n      <td>47.35332</td>\n      <td>33.8</td>\n      <td>22.0</td>\n      <td>18.0</td>\n      <td>22.0</td>\n    </tr>\n    <tr>\n      <th>2021-01-09 12:25:43-05:00</th>\n      <td>house.kitchen</td>\n      <td>NaN</td>\n      <td>2021-01-09 12:25:43-05:00</td>\n      <td>NaN</td>\n      <td>thermostat-20210109-172543</td>\n      <td>True</td>\n      <td>20.99985</td>\n      <td>47.25414</td>\n      <td>34.1</td>\n      <td>22.0</td>\n      <td>18.0</td>\n      <td>22.0</td>\n    </tr>\n    <tr>\n      <th>2021-01-09 12:25:44-05:00</th>\n      <td>house.kitchen</td>\n      <td>NaN</td>\n      <td>2021-01-09 12:25:44-05:00</td>\n      <td>NaN</td>\n      <td>thermostat-20210109-172544</td>\n      <td>False</td>\n      <td>21.02922</td>\n      <td>47.15191</td>\n      <td>33.7</td>\n      <td>22.0</td>\n      <td>18.0</td>\n      <td>22.0</td>\n    </tr>\n    <tr>\n      <th>2021-01-09 12:26:39-05:00</th>\n      <td>house.kitchen</td>\n      <td>NaN</td>\n      <td>2021-01-09 12:26:39-05:00</td>\n      <td>NaN</td>\n      <td>thermostat-20210109-172640</td>\n      <td>True</td>\n      <td>20.98650</td>\n      <td>47.22972</td>\n      <td>34.3</td>\n      <td>22.0</td>\n      <td>18.0</td>\n      <td>22.0</td>\n    </tr>\n    <tr>\n      <th>2021-01-09 12:26:41-05:00</th>\n      <td>house.kitchen</td>\n      <td>NaN</td>\n      <td>2021-01-09 12:26:41-05:00</td>\n      <td>NaN</td>\n      <td>thermostat-20210109-172641</td>\n      <td>False</td>\n      <td>20.98650</td>\n      <td>47.21752</td>\n      <td>34.3</td>\n      <td>22.0</td>\n      <td>18.0</td>\n      <td>22.0</td>\n    </tr>\n  </tbody>\n</table>\n<p>116993 rows × 12 columns</p>\n</div>"
     },
     "metadata": {},
     "execution_count": 4
    }
   ],
   "source": [
    "#thermostat_metric_data['location'] = thermostat_metric_data.apply(lambda x : x['site'] if pd.isna(x['location']) else x['location'], axis = 1)\n",
    "#thermostat_metric_data = thermostat_metric_data[~thermostat_metric_data.duplicated(keep='first')]\n",
    "thermostat_metric_data.sort_index(inplace=True)\n",
    "thermostat_metric_data"
   ]
  },
  {
   "cell_type": "code",
   "execution_count": 5,
   "metadata": {},
   "outputs": [
    {
     "output_type": "stream",
     "name": "stderr",
     "text": [
      "c:\\Users\\T834432\\Documents\\personnel\\thermostat\\thermostat-agent\\.venv\\lib\\site-packages\\ipykernel\\ipkernel.py:287: DeprecationWarning: `should_run_async` will not call `transform_cell` automatically in the future. Please pass the result to `transformed_cell` argument and any exception that happen during thetransform in `preprocessing_exc_tuple` in IPython 7.17 and above.\n  and should_run_async(code)\n"
     ]
    }
   ],
   "source": [
    "pickle_dump = pickle.dumps(thermostat_metric_data)\n",
    "b = bucket.blob('_thermostat_metric_data.p')\n",
    "b.temporary_hold = False\n",
    "b.patch()\n",
    "b.upload_from_string(data=pickle_dump, content_type='text/plain')\n"
   ]
  },
  {
   "cell_type": "code",
   "execution_count": null,
   "metadata": {},
   "outputs": [],
   "source": [
    "thermostat_metric_data[thermostat_metric_data['location'] == 'house.basement']\n"
   ]
  },
  {
   "cell_type": "code",
   "execution_count": null,
   "metadata": {},
   "outputs": [],
   "source": [
    "onlyfiles = [f for f in listdir('dump') if isfile(join('dump', f)) and f.startswith('environment')]\n",
    "x = onlyfiles.index('environment_sensor_basement-20201220-151228')\n",
    "del onlyfiles[:x]\n",
    "len(onlyfiles)"
   ]
  },
  {
   "cell_type": "code",
   "execution_count": 3,
   "metadata": {},
   "outputs": [
    {
     "output_type": "stream",
     "name": "stderr",
     "text": [
      "c:\\Users\\T834432\\Documents\\personnel\\thermostat\\thermostat-agent\\.venv\\lib\\site-packages\\ipykernel\\ipkernel.py:287: DeprecationWarning: `should_run_async` will not call `transform_cell` automatically in the future. Please pass the result to `transformed_cell` argument and any exception that happen during thetransform in `preprocessing_exc_tuple` in IPython 7.17 and above.\n  and should_run_async(code)\n"
     ]
    }
   ],
   "source": [
    "%load_ext autoreload\n",
    "%autoreload 2"
   ]
  },
  {
   "cell_type": "code",
   "execution_count": null,
   "metadata": {},
   "outputs": [],
   "source": [
    "\n",
    "pickle_dump = pickle.dumps(onlyfiles)\n",
    "b = bucket.blob('thermostat_metric_list.p')\n",
    "\n",
    "b.upload_from_string(data=pickle_dump, content_type='text/plain')"
   ]
  },
  {
   "cell_type": "code",
   "execution_count": null,
   "metadata": {},
   "outputs": [],
   "source": [
    "b = bucket.get_blob('thermostat_metric_list.p')\n",
    "\n",
    "pickle_load = b.download_as_bytes()\n",
    "test = pickle.loads(pickle_load)\n",
    "test"
   ]
  },
  {
   "cell_type": "code",
   "execution_count": null,
   "metadata": {},
   "outputs": [],
   "source": [
    "pd.util.hash_pandas_object(test)"
   ]
  },
  {
   "cell_type": "code",
   "execution_count": null,
   "metadata": {},
   "outputs": [],
   "source": [
    "pd.util.hash_pandas_object(test)\n"
   ]
  },
  {
   "cell_type": "code",
   "execution_count": null,
   "metadata": {},
   "outputs": [],
   "source": []
  }
 ]
}