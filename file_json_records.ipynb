{
 "metadata": {
  "language_info": {
   "codemirror_mode": {
    "name": "ipython",
    "version": 3
   },
   "file_extension": ".py",
   "mimetype": "text/x-python",
   "name": "python",
   "nbconvert_exporter": "python",
   "pygments_lexer": "ipython3",
   "version": "3.8.6-final"
  },
  "orig_nbformat": 2,
  "kernelspec": {
   "name": "python3",
   "display_name": "Python 3",
   "language": "python"
  }
 },
 "nbformat": 4,
 "nbformat_minor": 2,
 "cells": [
  {
   "cell_type": "code",
   "execution_count": 5,
   "metadata": {},
   "outputs": [
    {
     "output_type": "stream",
     "name": "stderr",
     "text": [
      "  0%|          | 311/137884 [00:00<00:44, 3109.76it/s]Files to process : 137884\n",
      "100%|██████████| 137884/137884 [00:46<00:00, 2981.22it/s]\n"
     ]
    }
   ],
   "source": [
    "\n",
    "\n",
    "from tqdm import tqdm\n",
    "\n",
    "from os import listdir\n",
    "from os.path import isfile, join\n",
    "\n",
    "\n",
    "onlyfiles = [\n",
    "    f for f in listdir('dump') if isfile(join('dump', f)) and (\n",
    "        f.startswith('thermostat-')\n",
    "        or f.startswith('environment_sensor_basement-'))\n",
    "]\n",
    "\n",
    "print(f\"Files to process : {len(onlyfiles)}\")\n",
    "\n",
    "exist = 0\n",
    "processed = 0\n",
    "with open('data_20210111_202000', 'w') as json_records:\n",
    "    for f in tqdm(onlyfiles):\n",
    "        with open('dump/'+f, 'r') as file:\n",
    "            data = file.read().replace('\\n', '')\n",
    "            r = '{};{}\\n'.format(f,data)\n",
    "            json_records.write(r)"
   ]
  },
  {
   "cell_type": "code",
   "execution_count": null,
   "metadata": {},
   "outputs": [],
   "source": [
    "with open('data_20210111_202000', 'r') as file:\n",
    "    for line in file:\n",
    "         data = line.split(';',1)\n",
    "         "
   ]
  }
 ]
}